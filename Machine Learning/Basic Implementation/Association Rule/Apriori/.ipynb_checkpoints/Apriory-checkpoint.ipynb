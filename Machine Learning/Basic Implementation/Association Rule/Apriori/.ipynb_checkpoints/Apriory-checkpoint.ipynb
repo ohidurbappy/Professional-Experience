{
 "cells": [
  {
   "cell_type": "code",
   "execution_count": null,
   "metadata": {},
   "outputs": [],
   "source": [
    "# Importing  libraries\n",
    "import numpy as np\n",
    "import pandas as pd\n",
    "from apyori import apriori"
   ]
  },
  {
   "cell_type": "code",
   "execution_count": null,
   "metadata": {},
   "outputs": [],
   "source": [
    "# Get Data & Initialize variables\n",
    "filename = \"\"\n",
    "dataset = pd.read_csv(filename, header = None)\n",
    "\n",
    "transactions = []\n",
    "\n",
    "n_transactions = dataset.shape[0]\n",
    "\n",
    "n_items = 20 # Movies / Supermarket Items / etc ..\n",
    "\n",
    "n_common_items = 3 # How many Top items occurrences considered | playing around is recommended\n",
    "\n",
    "min_support = round((n_common_items) / n_transactions, 3) # min support = n_items occured / n_transactions\n",
    "\n",
    "min_confidence = 0.2 # Arbitrary .. may be 50% , 80% , try different values\n",
    "\n",
    "min_lift = 3 # How strong the rules are (likelihood) (lift > 1 is good likelihood)"
   ]
  },
  {
   "cell_type": "code",
   "execution_count": null,
   "metadata": {},
   "outputs": [],
   "source": [
    "# Preprocessing data (make list of lists(transactions) of items)\n",
    "for trans in range(0, n_transactions):\n",
    "    transactions.append([ str(dataset.values[trans, item]) for item in range(0, n_items)])"
   ]
  },
  {
   "cell_type": "code",
   "execution_count": null,
   "metadata": {},
   "outputs": [],
   "source": [
    "# Run algorithm\n",
    "rules = apriori(transactions, min_support = min_support, min_confidence = min_confidence, min_lift = min_lift, min_length = 2)"
   ]
  },
  {
   "cell_type": "code",
   "execution_count": null,
   "metadata": {},
   "outputs": [],
   "source": [
    "# Visualization\n",
    "results = list(rules)"
   ]
  }
 ],
 "metadata": {
  "kernelspec": {
   "display_name": "Python 3",
   "language": "python",
   "name": "python3"
  },
  "language_info": {
   "codemirror_mode": {
    "name": "ipython",
    "version": 3
   },
   "file_extension": ".py",
   "mimetype": "text/x-python",
   "name": "python",
   "nbconvert_exporter": "python",
   "pygments_lexer": "ipython3",
   "version": "3.7.4"
  }
 },
 "nbformat": 4,
 "nbformat_minor": 2
}
