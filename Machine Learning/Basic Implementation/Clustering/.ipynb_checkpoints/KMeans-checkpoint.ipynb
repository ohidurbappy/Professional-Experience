{
 "cells": [
  {
   "cell_type": "code",
   "execution_count": null,
   "metadata": {},
   "outputs": [],
   "source": [
    "# Import pre-processing libs\n",
    "import numpy as np\n",
    "import pandas as pd\n",
    "#from sklearn.preprocessing import OneHotEncoder, LabelEncoder\n",
    "#from sklearn.preprocessing import StandardScaler\n",
    "\n",
    "# Import model\n",
    "from sklearn.cluster import KMeans\n",
    "\n",
    "# Import post-processing libs\n",
    "import matplotlib.pyplot as plt\n",
    "import pickle"
   ]
  },
  {
   "cell_type": "code",
   "execution_count": null,
   "metadata": {},
   "outputs": [],
   "source": [
    "###################### 1- Import Data ######################\n",
    "filename = \"\"\n",
    "dataset = pd.read_csv(filename) # Check file extension before using this function\n",
    "X = dataset.iloc[:, :-1].values"
   ]
  },
  {
   "cell_type": "code",
   "execution_count": null,
   "metadata": {},
   "outputs": [],
   "source": [
    "###################### 2- Preprocessing ######################\n",
    "\n",
    "# Find out the best values of K using WCSS formula \n",
    "# & applying KMeans to a set of numbers for k\n",
    "wcss = []\n",
    "minK, maxK = (1, 10)\n",
    "Krange = range(minK, maxK + 1)\n",
    "\n",
    "for k in Krange:\n",
    "    kmeans = KMeans(n_clusters = k, init = 'k-means++',)\n",
    "    kmeans.fit(X)\n",
    "    wcss.append(kmeans.inertia_)\n",
    "    \n",
    "plt.plot(Krange, wcss)\n",
    "plt.title('Elbow Method')\n",
    "plt.xlabel('N of clusters')\n",
    "plt.ylabel('WCSS')\n",
    "plt.show()"
   ]
  },
  {
   "cell_type": "code",
   "execution_count": null,
   "metadata": {},
   "outputs": [],
   "source": [
    "###################### 3- Training ######################\n",
    "K = 8\n",
    "model = KMeans(n_clusters = K, init = 'k-means++')\n",
    "model.fit(X)"
   ]
  },
  {
   "cell_type": "code",
   "execution_count": null,
   "metadata": {},
   "outputs": [],
   "source": [
    "###################### 4- Testing ######################\n",
    "y = model.predict(X)"
   ]
  },
  {
   "cell_type": "code",
   "execution_count": null,
   "metadata": {},
   "outputs": [],
   "source": [
    "###################### 5- Visualization ######################\n",
    "###### IMPORTANT NOTE: this visualization works for 2 dimensions only ######\n",
    "colors = ['red', 'blue', 'lightcoral', 'indigo', 'gold', 'crimson', 'fuchsia', 'peru', 'palegreen', 'lawngreen', 'olivedrab', 'yellow', 'darkseagreen', 'tomato', 'orange', 'darkgreen', 'springgreen', 'darkred', 'teal', 'midnightblue', 'brown', 'gray', 'darkviolet', 'aqua', 'purple', 'orangered', 'turquoise', 'dodgerblue', 'deeppink']\n",
    "for i in range(K):\n",
    "    plt.scatter(X[y == i, 0], X[y == i, 1], s = 100, c = colors[i], label = 'Cluster ' + str(i + 1))\n",
    "plt.scatter(model.cluster_centers_[:, 0], model.cluster_centers_[:, 1], s = 200, c ='black', label = 'Centroids')\n",
    "plt.title('')\n",
    "plt.xlabel('')\n",
    "plt.ylabel('')\n",
    "plt.legend()\n",
    "plt.show()"
   ]
  },
  {
   "cell_type": "code",
   "execution_count": null,
   "metadata": {},
   "outputs": [],
   "source": [
    "###################### 6- Save & Use ######################\n",
    "values_to_predict = X\n",
    "prediction_result = model.predict(values_to_predict)\n",
    "\n",
    "with open('kmeans.pkl', 'wb') as f:\n",
    "    pickle.dump(model, f)"
   ]
  }
 ],
 "metadata": {
  "kernelspec": {
   "display_name": "Python 3",
   "language": "python",
   "name": "python3"
  },
  "language_info": {
   "codemirror_mode": {
    "name": "ipython",
    "version": 3
   },
   "file_extension": ".py",
   "mimetype": "text/x-python",
   "name": "python",
   "nbconvert_exporter": "python",
   "pygments_lexer": "ipython3",
   "version": "3.7.4"
  }
 },
 "nbformat": 4,
 "nbformat_minor": 2
}
