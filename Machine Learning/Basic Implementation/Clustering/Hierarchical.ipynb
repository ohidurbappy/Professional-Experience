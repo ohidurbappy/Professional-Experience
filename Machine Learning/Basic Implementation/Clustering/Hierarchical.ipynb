{
 "cells": [
  {
   "cell_type": "code",
   "execution_count": null,
   "metadata": {},
   "outputs": [],
   "source": [
    "# Import pre-processing libs\n",
    "import numpy as np\n",
    "import pandas as pd\n",
    "import scipy.cluster.hierarchy as hc\n",
    "#from sklearn.preprocessing import OneHotEncoder, LabelEncoder\n",
    "#from sklearn.preprocessing import StandardScaler\n",
    "\n",
    "# Import model\n",
    "from sklearn.cluster import AgglomerativeClustering\n",
    "\n",
    "# Import post-processing libs\n",
    "import matplotlib.pyplot as plt\n",
    "import pickle"
   ]
  },
  {
   "cell_type": "code",
   "execution_count": null,
   "metadata": {},
   "outputs": [],
   "source": [
    "###################### 1- Import Data ######################\n",
    "filename = \"\"\n",
    "dataset = pd.read_csv(filename) # Check file extension before using this function\n",
    "X = dataset.iloc[:, :-1].values"
   ]
  },
  {
   "cell_type": "code",
   "execution_count": null,
   "metadata": {},
   "outputs": [],
   "source": [
    "###################### 2- Preprocessing ######################\n",
    "\n",
    "# Find out the best values of K using Dendograms \n",
    "# & applying Hierarchial clustering to a set of numbers for k\n",
    "dendrogram = hc.dendrogram(hc.linkage(X, method = 'ward', metric = 'euclidean'))\n",
    "plt.title('Dendrogram')\n",
    "plt.xlabel('')\n",
    "plt.ylabel('Distances')\n",
    "plt.show()"
   ]
  },
  {
   "cell_type": "code",
   "execution_count": null,
   "metadata": {},
   "outputs": [],
   "source": [
    "###################### 3- Training ######################\n",
    "K = 2\n",
    "model = AgglomerativeClustering(n_clusters = K, affinity = 'euclidean', linkage = 'ward')\n",
    "model.fit(X)"
   ]
  },
  {
   "cell_type": "code",
   "execution_count": null,
   "metadata": {},
   "outputs": [],
   "source": [
    "###################### 4- Testing ######################\n",
    "y = model.predict(X)"
   ]
  },
  {
   "cell_type": "code",
   "execution_count": null,
   "metadata": {},
   "outputs": [],
   "source": [
    "###################### 5- Visualization ######################\n",
    "###### IMPORTANT NOTE: this visualization works for 2 dimensions only ######\n",
    "colors = ['red', 'blue', 'lightcoral', 'indigo', 'gold', 'crimson', 'fuchsia', 'peru', 'palegreen', 'lawngreen', 'olivedrab', 'yellow', 'darkseagreen', 'tomato', 'orange', 'darkgreen', 'springgreen', 'darkred', 'teal', 'midnightblue', 'brown', 'gray', 'darkviolet', 'aqua', 'purple', 'orangered', 'turquoise', 'dodgerblue', 'deeppink']\n",
    "for i in range(K):\n",
    "    plt.scatter(X[y == i, 0], X[y == i, 1], s = 100, c = colors[i], label = 'Cluster ' + str(i + 1))\n",
    "plt.title('')\n",
    "plt.xlabel('')\n",
    "plt.ylabel('')\n",
    "plt.legend()\n",
    "plt.show()"
   ]
  },
  {
   "cell_type": "code",
   "execution_count": null,
   "metadata": {},
   "outputs": [],
   "source": [
    "###################### 6- Save & Use ######################\n",
    "values_to_predict = X\n",
    "prediction_result = model.predict(values_to_predict)\n",
    "\n",
    "with open('H_clustering.pkl', 'wb') as f:\n",
    "    pickle.dump(model, f)"
   ]
  }
 ],
 "metadata": {
  "kernelspec": {
   "display_name": "Python 3",
   "language": "python",
   "name": "python3"
  },
  "language_info": {
   "codemirror_mode": {
    "name": "ipython",
    "version": 3
   },
   "file_extension": ".py",
   "mimetype": "text/x-python",
   "name": "python",
   "nbconvert_exporter": "python",
   "pygments_lexer": "ipython3",
   "version": "3.7.4"
  }
 },
 "nbformat": 4,
 "nbformat_minor": 2
}
