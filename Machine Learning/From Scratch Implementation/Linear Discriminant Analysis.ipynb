{
 "cells": [
  {
   "cell_type": "code",
   "execution_count": 1,
   "id": "b04ac884",
   "metadata": {
    "execution": {
     "iopub.execute_input": "2021-09-06T17:51:31.471419Z",
     "iopub.status.busy": "2021-09-06T17:51:31.470229Z",
     "iopub.status.idle": "2021-09-06T17:51:31.480169Z",
     "shell.execute_reply": "2021-09-06T17:51:31.480761Z",
     "shell.execute_reply.started": "2021-09-06T17:38:21.830036Z"
    },
    "papermill": {
     "duration": 0.029923,
     "end_time": "2021-09-06T17:51:31.481099",
     "exception": false,
     "start_time": "2021-09-06T17:51:31.451176",
     "status": "completed"
    },
    "tags": []
   },
   "outputs": [],
   "source": [
    "import numpy as np\n",
    "import pandas as pd\n",
    "import matplotlib.pyplot as plt\n",
    "import math"
   ]
  },
  {
   "cell_type": "code",
   "execution_count": 2,
   "id": "441a848c",
   "metadata": {
    "execution": {
     "iopub.execute_input": "2021-09-06T17:51:31.513442Z",
     "iopub.status.busy": "2021-09-06T17:51:31.512783Z",
     "iopub.status.idle": "2021-09-06T17:51:31.623527Z",
     "shell.execute_reply": "2021-09-06T17:51:31.624130Z",
     "shell.execute_reply.started": "2021-09-06T17:48:56.234505Z"
    },
    "papermill": {
     "duration": 0.128044,
     "end_time": "2021-09-06T17:51:31.624315",
     "exception": false,
     "start_time": "2021-09-06T17:51:31.496271",
     "status": "completed"
    },
    "tags": []
   },
   "outputs": [],
   "source": [
    "# Define functions\n",
    "\n",
    "# Find the slope of the best fitting line\n",
    "def fit_slope(x, y):\n",
    "    return (np.mean(x) * np.mean(y) - np.mean(x * y)) / (np.mean(x)**2 - np.mean(x**2))\n",
    "\n",
    "# Rotate point counterclockwise\n",
    "def rotate(origin, point, angle):\n",
    "    \"\"\"\n",
    "    Rotate a point counterclockwise by a given angle around a given origin.\n",
    "\n",
    "    The angle should be given in radians.\n",
    "    \"\"\"\n",
    "    ox, oy = origin\n",
    "    px, py = point\n",
    "\n",
    "    qx = ox + math.cos(angle) * (px - ox) - math.sin(angle) * (py - oy)\n",
    "    qy = oy + math.sin(angle) * (px - ox) + math.cos(angle) * (py - oy)\n",
    "    return qx, qy\n",
    "\n",
    "# Calculate variation\n",
    "def variation(array, mean=0):\n",
    "    return np.sum((mean - array) ** 2) / (array.shape[0]-1)\n",
    "\n",
    "# Find the coordination of the intersection between 2 lines\n",
    "def lines_intersection(coefficients1, coefficients2):\n",
    "    coefficients1, coefficients2 = np.copy(coefficients1), np.copy(coefficients2)\n",
    "    if coefficients1.shape[0] < coefficients2.shape[0]:\n",
    "        coefficients1 = np.pad(coefficients1, (0,coefficients2.shape[0]-coefficients1.shape[0]), \n",
    "                           'constant', constant_values=0)\n",
    "        bias1 = 0\n",
    "        bias2 = coefficients2[-1]\n",
    "    elif coefficients1.shape[0] > coefficients2.shape[0]:\n",
    "        coefficients2 = np.pad(coefficients2, (0, coefficients1.shape[0]-coefficients2.shape[0]), \n",
    "                           'constant', constant_values=0)\n",
    "        bias2 = 0\n",
    "        bias1 = coefficients1[-1]\n",
    "    else:\n",
    "        bias1 = coefficients1[-1]\n",
    "        bias2 = coefficients2[-1]\n",
    "    bias_sum = bias2 - bias1\n",
    "    coefficients1 = coefficients1[:-1]\n",
    "    coefficients2 = coefficients2[:-1]\n",
    "    total = 0\n",
    "    for i in range(coefficients1.shape[0]):\n",
    "        total += coefficients1[i] + (-1 * coefficients2[i])\n",
    "        \n",
    "    # No intersection\n",
    "    if total == 0:\n",
    "        return None\n",
    "    x = (1/total) * bias_sum\n",
    "    y = [x * coefficients1 + bias1][0][0]\n",
    "    return [x,y]\n",
    "    \n",
    "# Find a prependicular line (can be moved from some point (origin))\n",
    "def find_prependicular_line(coefficients, origin=None):\n",
    "    coefficients = np.copy(coefficients)\n",
    "    bias = coefficients[-1]\n",
    "    slopes = coefficients[:-1]\n",
    "    slopes = -1 * np.reciprocal(slopes, dtype='float')\n",
    "    coefficients[:-1] = slopes\n",
    "    if origin is None:\n",
    "        origin = np.zeros(coefficients.shape[0]-1)\n",
    "    bias += np.sum(slopes * -1 * origin[:-1]) + origin[-1]\n",
    "    coefficients[-1] = bias\n",
    "    return coefficients\n",
    "\n",
    "def project_points_onto_line(x, y, coefficients):\n",
    "    if x.shape[0] != y.shape[0]:\n",
    "        return None\n",
    "    projections_x = np.zeros(x.shape[0])\n",
    "    projections_y = np.zeros(x.shape[0])\n",
    "    for i in range(x.shape[0]):\n",
    "        # pr is prependicular line\n",
    "        pr_slope, pr_b = find_prependicular_line(coefficients, np.array([x[i], y[i]]))\n",
    "        inter_x, inter_y = lines_intersection(coefficients, np.array([pr_slope, pr_b]))\n",
    "        projections_x[i] = inter_x\n",
    "        projections_y[i] = inter_y\n",
    "    return projections_x, projections_y"
   ]
  },
  {
   "cell_type": "code",
   "execution_count": 3,
   "id": "d45f68de",
   "metadata": {
    "execution": {
     "iopub.execute_input": "2021-09-06T17:51:31.655446Z",
     "iopub.status.busy": "2021-09-06T17:51:31.654760Z",
     "iopub.status.idle": "2021-09-06T17:51:31.860867Z",
     "shell.execute_reply": "2021-09-06T17:51:31.860285Z",
     "shell.execute_reply.started": "2021-09-06T17:49:00.939269Z"
    },
    "papermill": {
     "duration": 0.222752,
     "end_time": "2021-09-06T17:51:31.861105",
     "exception": false,
     "start_time": "2021-09-06T17:51:31.638353",
     "status": "completed"
    },
    "tags": []
   },
   "outputs": [
    {
     "data": {
      "text/plain": [
       "Text(0.5, 1.0, 'Original data')"
      ]
     },
     "execution_count": 3,
     "metadata": {},
     "output_type": "execute_result"
    },
    {
     "data": {
      "image/png": "[encoded data removed]",
      "text/plain": [
       "<Figure size 432x288 with 1 Axes>"
      ]
     },
     "metadata": {
      "needs_background": "light"
     },
     "output_type": "display_data"
    }
   ],
   "source": [
    "x1 = np.array([8, 16, 24, 28, 36, 40, 44, 44, 48, 56, 72, 68], dtype='float')\n",
    "x2 = np.array([40, 28, 10, 42, 45, 50, 61, 22, 13, 5, 37, 18], dtype='float')\n",
    "y = np.array(['red', 'red' ,'red', 'blue', 'blue', 'blue', 'blue', 'red', 'red', 'red', 'blue', 'blue'])\n",
    "\n",
    "red_points = np.array(list(zip(x1[y == 'red'], x2[y == 'red'])))\n",
    "blue_points = np.array(list(zip(x1[y == 'blue'], x2[y == 'blue'])))\n",
    "\n",
    "#Visualize original data\n",
    "plt.scatter(x1,x2, color=y)\n",
    "plt.title(\"Original data\")"
   ]
  },
  {
   "cell_type": "code",
   "execution_count": 4,
   "id": "798c61e4",
   "metadata": {
    "execution": {
     "iopub.execute_input": "2021-09-06T17:51:31.899264Z",
     "iopub.status.busy": "2021-09-06T17:51:31.898205Z",
     "iopub.status.idle": "2021-09-06T17:51:31.902071Z",
     "shell.execute_reply": "2021-09-06T17:51:31.901401Z",
     "shell.execute_reply.started": "2021-09-06T17:49:06.285753Z"
    },
    "papermill": {
     "duration": 0.025293,
     "end_time": "2021-09-06T17:51:31.902221",
     "exception": false,
     "start_time": "2021-09-06T17:51:31.876928",
     "status": "completed"
    },
    "tags": []
   },
   "outputs": [],
   "source": [
    "# Calculate centroids of red points, and another for blue points\n",
    "red_points_mean_x, red_points_mean_y = red_points[:,0].mean(), red_points[:,1].mean()\n",
    "blue_points_mean_x, blue_points_mean_y = blue_points[:,0].mean(), blue_points[:,1].mean()\n",
    "\n",
    "# Calculate the centroid of centroids\n",
    "x_mean = (red_points_mean_x + blue_points_mean_x) / 2\n",
    "y_mean = (red_points_mean_y + blue_points_mean_y) / 2"
   ]
  },
  {
   "cell_type": "code",
   "execution_count": 5,
   "id": "40882e1f",
   "metadata": {
    "execution": {
     "iopub.execute_input": "2021-09-06T17:51:31.941019Z",
     "iopub.status.busy": "2021-09-06T17:51:31.939989Z",
     "iopub.status.idle": "2021-09-06T17:51:31.943568Z",
     "shell.execute_reply": "2021-09-06T17:51:31.942835Z",
     "shell.execute_reply.started": "2021-09-06T17:49:14.458228Z"
    },
    "papermill": {
     "duration": 0.024795,
     "end_time": "2021-09-06T17:51:31.943732",
     "exception": false,
     "start_time": "2021-09-06T17:51:31.918937",
     "status": "completed"
    },
    "tags": []
   },
   "outputs": [],
   "source": [
    "# Find the line which is prependicular to the (futuristic) best-separator line\n",
    "best_separator_prependicular_x_points = np.array([red_points_mean_x, blue_points_mean_x])\n",
    "best_separator_prependicular_slope = fit_slope(best_separator_prependicular_x_points,\n",
    "                                        np.array([red_points_mean_y, blue_points_mean_y]))\n",
    "best_separator_prependicular_y_intercept = y_mean  - best_separator_prependicular_slope * best_separator_prependicular_x_points.mean()\n",
    "best_separator_prependicular_y_points = best_separator_prependicular_x_points * best_separator_prependicular_slope + best_separator_prependicular_y_intercept"
   ]
  },
  {
   "cell_type": "code",
   "execution_count": 6,
   "id": "6c341997",
   "metadata": {
    "execution": {
     "iopub.execute_input": "2021-09-06T17:51:32.008821Z",
     "iopub.status.busy": "2021-09-06T17:51:32.006606Z",
     "iopub.status.idle": "2021-09-06T17:51:32.188999Z",
     "shell.execute_reply": "2021-09-06T17:51:32.188155Z",
     "shell.execute_reply.started": "2021-09-06T17:49:23.312302Z"
    },
    "papermill": {
     "duration": 0.229977,
     "end_time": "2021-09-06T17:51:32.189227",
     "exception": false,
     "start_time": "2021-09-06T17:51:31.959250",
     "status": "completed"
    },
    "tags": []
   },
   "outputs": [
    {
     "data": {
      "text/plain": [
       "Text(0.5, 1.0, 'Groups Centroids')"
      ]
     },
     "execution_count": 6,
     "metadata": {},
     "output_type": "execute_result"
    },
    {
     "data": {
      "image/png": "[encoded data removed]",
      "text/plain": [
       "<Figure size 432x288 with 1 Axes>"
      ]
     },
     "metadata": {
      "needs_background": "light"
     },
     "output_type": "display_data"
    }
   ],
   "source": [
    "# Visualize Groups Centroids\n",
    "plt.scatter(x1,x2, color=y)\n",
    "plt.scatter(red_points_mean_x, red_points_mean_y, color='green',s=70)\n",
    "plt.scatter(blue_points_mean_x, blue_points_mean_y, color='purple', s=70)\n",
    "plt.title(\"Groups Centroids\")"
   ]
  },
  {
   "cell_type": "code",
   "execution_count": 7,
   "id": "ec3f79c8",
   "metadata": {
    "execution": {
     "iopub.execute_input": "2021-09-06T17:51:32.241963Z",
     "iopub.status.busy": "2021-09-06T17:51:32.240805Z",
     "iopub.status.idle": "2021-09-06T17:51:32.469726Z",
     "shell.execute_reply": "2021-09-06T17:51:32.470286Z",
     "shell.execute_reply.started": "2021-09-06T17:49:36.232463Z"
    },
    "papermill": {
     "duration": 0.2572,
     "end_time": "2021-09-06T17:51:32.470485",
     "exception": false,
     "start_time": "2021-09-06T17:51:32.213285",
     "status": "completed"
    },
    "tags": []
   },
   "outputs": [
    {
     "data": {
      "text/plain": [
       "Text(0.5, 1.0, 'Prependicular (on separator) line')"
      ]
     },
     "execution_count": 7,
     "metadata": {},
     "output_type": "execute_result"
    },
    {
     "data": {
      "image/png": "[encoded data removed]",
      "text/plain": [
       "<Figure size 432x288 with 1 Axes>"
      ]
     },
     "metadata": {
      "needs_background": "light"
     },
     "output_type": "display_data"
    }
   ],
   "source": [
    "# Visualize prependicular line\n",
    "plt.scatter(x1,x2, color=y)\n",
    "plt.scatter(red_points_mean_x, red_points_mean_y, color='black', s=70)\n",
    "plt.scatter(blue_points_mean_x, blue_points_mean_y, color='black', s=70)\n",
    "plt.scatter(x_mean, y_mean, color='yellow')\n",
    "plt.plot(best_separator_prependicular_x_points, best_separator_prependicular_y_points)\n",
    "plt.title(\"Prependicular (on separator) line\")"
   ]
  },
  {
   "cell_type": "code",
   "execution_count": 8,
   "id": "31fa3c05",
   "metadata": {
    "execution": {
     "iopub.execute_input": "2021-09-06T17:51:32.509728Z",
     "iopub.status.busy": "2021-09-06T17:51:32.508688Z",
     "iopub.status.idle": "2021-09-06T17:51:32.514291Z",
     "shell.execute_reply": "2021-09-06T17:51:32.514777Z",
     "shell.execute_reply.started": "2021-09-06T17:49:53.176986Z"
    },
    "papermill": {
     "duration": 0.026929,
     "end_time": "2021-09-06T17:51:32.514994",
     "exception": false,
     "start_time": "2021-09-06T17:51:32.488065",
     "status": "completed"
    },
    "tags": []
   },
   "outputs": [],
   "source": [
    "# Find the best separator line\n",
    "best_separator_slope, best_separator_y_intercept = find_prependicular_line([best_separator_prependicular_slope, best_separator_prependicular_y_intercept],\n",
    "                                           origin=[x_mean, y_mean])\n",
    "best_separator_x_points = np.arange(np.min(x1), np.max(x1)+1)\n",
    "best_separator_y_points = (best_separator_slope) * best_separator_x_points + best_separator_y_intercept+ (-best_separator_prependicular_y_intercept)"
   ]
  },
  {
   "cell_type": "code",
   "execution_count": 9,
   "id": "2db74090",
   "metadata": {
    "execution": {
     "iopub.execute_input": "2021-09-06T17:51:32.554394Z",
     "iopub.status.busy": "2021-09-06T17:51:32.553369Z",
     "iopub.status.idle": "2021-09-06T17:51:32.756178Z",
     "shell.execute_reply": "2021-09-06T17:51:32.755604Z",
     "shell.execute_reply.started": "2021-09-06T17:49:59.643756Z"
    },
    "papermill": {
     "duration": 0.224018,
     "end_time": "2021-09-06T17:51:32.756328",
     "exception": false,
     "start_time": "2021-09-06T17:51:32.532310",
     "status": "completed"
    },
    "tags": []
   },
   "outputs": [
    {
     "data": {
      "text/plain": [
       "Text(0.5, 1.0, 'Best-separator & its prependicular')"
      ]
     },
     "execution_count": 9,
     "metadata": {},
     "output_type": "execute_result"
    },
    {
     "data": {
      "image/png": "[encoded data removed]",
      "text/plain": [
       "<Figure size 432x288 with 1 Axes>"
      ]
     },
     "metadata": {
      "needs_background": "light"
     },
     "output_type": "display_data"
    }
   ],
   "source": [
    "# Visualize best-separator line and its prependicular\n",
    "plt.scatter(x1,x2, color=y)\n",
    "plt.scatter(red_points_mean_x, red_points_mean_y, color='black', s=70)\n",
    "plt.scatter(blue_points_mean_x, blue_points_mean_y, color='black', s=70)\n",
    "plt.scatter(x_mean, y_mean, color='yellow')\n",
    "plt.plot(best_separator_prependicular_x_points, best_separator_prependicular_y_points)\n",
    "plt.plot(best_separator_x_points, best_separator_y_points)\n",
    "plt.axis('equal')\n",
    "plt.title(\"Best-separator & its prependicular\")"
   ]
  },
  {
   "cell_type": "code",
   "execution_count": 10,
   "id": "396b2b3e",
   "metadata": {
    "execution": {
     "iopub.execute_input": "2021-09-06T17:51:32.827168Z",
     "iopub.status.busy": "2021-09-06T17:51:32.823491Z",
     "iopub.status.idle": "2021-09-06T17:51:32.963355Z",
     "shell.execute_reply": "2021-09-06T17:51:32.962651Z",
     "shell.execute_reply.started": "2021-09-06T17:50:05.827740Z"
    },
    "papermill": {
     "duration": 0.188059,
     "end_time": "2021-09-06T17:51:32.963504",
     "exception": false,
     "start_time": "2021-09-06T17:51:32.775445",
     "status": "completed"
    },
    "tags": []
   },
   "outputs": [
    {
     "data": {
      "text/plain": [
       "Text(0.5, 1.0, 'Best-separator line')"
      ]
     },
     "execution_count": 10,
     "metadata": {},
     "output_type": "execute_result"
    },
    {
     "data": {
      "image/png": "[encoded data removed]",
      "text/plain": [
       "<Figure size 432x288 with 1 Axes>"
      ]
     },
     "metadata": {
      "needs_background": "light"
     },
     "output_type": "display_data"
    }
   ],
   "source": [
    "# Visualize separator line\n",
    "plt.scatter(x1,x2, color=y)\n",
    "plt.plot(best_separator_x_points, best_separator_y_points, color='black')\n",
    "# plt.axis('equal')\n",
    "plt.title(\"Best-separator line\")"
   ]
  },
  {
   "cell_type": "code",
   "execution_count": 11,
   "id": "10c194ae",
   "metadata": {
    "execution": {
     "iopub.execute_input": "2021-09-06T17:51:33.010164Z",
     "iopub.status.busy": "2021-09-06T17:51:33.009142Z",
     "iopub.status.idle": "2021-09-06T17:51:33.012680Z",
     "shell.execute_reply": "2021-09-06T17:51:33.012164Z",
     "shell.execute_reply.started": "2021-09-06T17:50:11.807538Z"
    },
    "papermill": {
     "duration": 0.029382,
     "end_time": "2021-09-06T17:51:33.012835",
     "exception": false,
     "start_time": "2021-09-06T17:51:32.983453",
     "status": "completed"
    },
    "tags": []
   },
   "outputs": [],
   "source": [
    "# Rotate everything so the separator is identical on Y-axis\n",
    "degrees = math.radians(270) - math.atan(best_separator_slope)\n",
    "origin = [0,0]\n",
    "x1,x2 = rotate(origin, [x1,x2], degrees)\n",
    "[best_separator_x_points, best_separator_y_points] = rotate(origin, [best_separator_x_points, best_separator_y_points], degrees)"
   ]
  },
  {
   "cell_type": "code",
   "execution_count": 12,
   "id": "f54f5eb7",
   "metadata": {
    "execution": {
     "iopub.execute_input": "2021-09-06T17:51:33.086225Z",
     "iopub.status.busy": "2021-09-06T17:51:33.085229Z",
     "iopub.status.idle": "2021-09-06T17:51:33.228545Z",
     "shell.execute_reply": "2021-09-06T17:51:33.227742Z",
     "shell.execute_reply.started": "2021-09-06T17:50:17.869161Z"
    },
    "papermill": {
     "duration": 0.195935,
     "end_time": "2021-09-06T17:51:33.228706",
     "exception": false,
     "start_time": "2021-09-06T17:51:33.032771",
     "status": "completed"
    },
    "tags": []
   },
   "outputs": [
    {
     "data": {
      "text/plain": [
       "Text(0.5, 1.0, 'Data & Best-separator after rotation')"
      ]
     },
     "execution_count": 12,
     "metadata": {},
     "output_type": "execute_result"
    },
    {
     "data": {
      "image/png": "[encoded data removed]",
      "text/plain": [
       "<Figure size 432x288 with 1 Axes>"
      ]
     },
     "metadata": {
      "needs_background": "light"
     },
     "output_type": "display_data"
    }
   ],
   "source": [
    "# Visualize separator after rotation\n",
    "plt.scatter(x1,x2, color=y)\n",
    "plt.plot(best_separator_x_points, best_separator_y_points, color='black')\n",
    "# plt.axis('equal')\n",
    "plt.title(\"Data & Best-separator after rotation\")"
   ]
  },
  {
   "cell_type": "code",
   "execution_count": 13,
   "id": "4abf37e6",
   "metadata": {
    "execution": {
     "iopub.execute_input": "2021-09-06T17:51:33.276406Z",
     "iopub.status.busy": "2021-09-06T17:51:33.275500Z",
     "iopub.status.idle": "2021-09-06T17:51:33.278462Z",
     "shell.execute_reply": "2021-09-06T17:51:33.278930Z",
     "shell.execute_reply.started": "2021-09-06T17:50:22.950994Z"
    },
    "papermill": {
     "duration": 0.029089,
     "end_time": "2021-09-06T17:51:33.279125",
     "exception": false,
     "start_time": "2021-09-06T17:51:33.250036",
     "status": "completed"
    },
    "tags": []
   },
   "outputs": [],
   "source": [
    "# Project data on X-axis\n",
    "projections_lda1 = x1\n",
    "zeros = np.zeros(projections_lda1.shape[0])"
   ]
  },
  {
   "cell_type": "code",
   "execution_count": 14,
   "id": "f841fedc",
   "metadata": {
    "execution": {
     "iopub.execute_input": "2021-09-06T17:51:33.354724Z",
     "iopub.status.busy": "2021-09-06T17:51:33.353661Z",
     "iopub.status.idle": "2021-09-06T17:51:33.483060Z",
     "shell.execute_reply": "2021-09-06T17:51:33.482450Z",
     "shell.execute_reply.started": "2021-09-06T17:50:25.610148Z"
    },
    "papermill": {
     "duration": 0.183157,
     "end_time": "2021-09-06T17:51:33.483232",
     "exception": false,
     "start_time": "2021-09-06T17:51:33.300075",
     "status": "completed"
    },
    "tags": []
   },
   "outputs": [
    {
     "data": {
      "text/plain": [
       "Text(0.5, 1.0, 'Data projected on X-axis')"
      ]
     },
     "execution_count": 14,
     "metadata": {},
     "output_type": "execute_result"
    },
    {
     "data": {
      "image/png": "[encoded data removed]",
      "text/plain": [
       "<Figure size 432x288 with 1 Axes>"
      ]
     },
     "metadata": {
      "needs_background": "light"
     },
     "output_type": "display_data"
    }
   ],
   "source": [
    "# Visualize data projected on X-axis\n",
    "plt.scatter(x1,zeros, color=y)\n",
    "plt.plot(projections_lda1, zeros, color='black')\n",
    "# plt.axis('equal')\n",
    "plt.title(\"Data projected on X-axis\")"
   ]
  },
  {
   "cell_type": "code",
   "execution_count": 15,
   "id": "75767533",
   "metadata": {
    "execution": {
     "iopub.execute_input": "2021-09-06T17:51:33.561012Z",
     "iopub.status.busy": "2021-09-06T17:51:33.557765Z",
     "iopub.status.idle": "2021-09-06T17:51:33.685495Z",
     "shell.execute_reply": "2021-09-06T17:51:33.684796Z",
     "shell.execute_reply.started": "2021-09-06T17:50:33.186103Z"
    },
    "papermill": {
     "duration": 0.180152,
     "end_time": "2021-09-06T17:51:33.685643",
     "exception": false,
     "start_time": "2021-09-06T17:51:33.505491",
     "status": "completed"
    },
    "tags": []
   },
   "outputs": [
    {
     "data": {
      "text/plain": [
       "Text(0.5, 1.0, 'Final result')"
      ]
     },
     "execution_count": 15,
     "metadata": {},
     "output_type": "execute_result"
    },
    {
     "data": {
      "image/png": "[encoded data removed]",
      "text/plain": [
       "<Figure size 432x288 with 1 Axes>"
      ]
     },
     "metadata": {
      "needs_background": "light"
     },
     "output_type": "display_data"
    }
   ],
   "source": [
    "# Visualize data on Y-axis\n",
    "plt.scatter(zeros ,x1, color=y)\n",
    "plt.plot(zeros, projections_lda1, color='black')\n",
    "# plt.axis('equal')\n",
    "plt.title(\"Final result\")"
   ]
  },
  {
   "cell_type": "code",
   "execution_count": 16,
   "id": "b6346163",
   "metadata": {
    "execution": {
     "iopub.execute_input": "2021-09-06T17:51:33.737005Z",
     "iopub.status.busy": "2021-09-06T17:51:33.736303Z",
     "iopub.status.idle": "2021-09-06T17:51:33.741912Z",
     "shell.execute_reply": "2021-09-06T17:51:33.742390Z",
     "shell.execute_reply.started": "2021-09-06T17:50:41.026519Z"
    },
    "papermill": {
     "duration": 0.031761,
     "end_time": "2021-09-06T17:51:33.742577",
     "exception": false,
     "start_time": "2021-09-06T17:51:33.710816",
     "status": "completed"
    },
    "tags": []
   },
   "outputs": [
    {
     "name": "stdout",
     "output_type": "stream",
     "text": [
      "Margin = 46.71670576597295\n"
     ]
    }
   ],
   "source": [
    "# Calculate margin\n",
    "margin = np.mean([np.max(x1[y=='red']), np.min(x1[y=='blue'])])\n",
    "print(f\"Margin = {margin}\")"
   ]
  }
 ],
 "metadata": {
  "kernelspec": {
   "display_name": "Python 3",
   "language": "python",
   "name": "python3"
  },
  "language_info": {
   "codemirror_mode": {
    "name": "ipython",
    "version": 3
   },
   "file_extension": ".py",
   "mimetype": "text/x-python",
   "name": "python",
   "nbconvert_exporter": "python",
   "pygments_lexer": "ipython3",
   "version": "3.7.10"
  },
  "papermill": {
   "default_parameters": {},
   "duration": 11.433933,
   "end_time": "2021-09-06T17:51:34.476278",
   "environment_variables": {},
   "exception": null,
   "input_path": "__notebook__.ipynb",
   "output_path": "__notebook__.ipynb",
   "parameters": {},
   "start_time": "2021-09-06T17:51:23.042345",
   "version": "2.3.3"
  }
 },
 "nbformat": 4,
 "nbformat_minor": 5
}
