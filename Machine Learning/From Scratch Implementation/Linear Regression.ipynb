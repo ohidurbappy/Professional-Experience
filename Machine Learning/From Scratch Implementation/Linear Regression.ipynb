{
 "cells": [
  {
   "cell_type": "code",
   "execution_count": 1,
   "id": "1e4aa3f7",
   "metadata": {
    "execution": {
     "iopub.execute_input": "2021-10-09T19:26:14.784583Z",
     "iopub.status.busy": "2021-10-09T19:26:14.783528Z",
     "iopub.status.idle": "2021-10-09T19:26:14.791800Z",
     "shell.execute_reply": "2021-10-09T19:26:14.792265Z"
    },
    "papermill": {
     "duration": 0.018961,
     "end_time": "2021-10-09T19:26:14.792552",
     "exception": false,
     "start_time": "2021-10-09T19:26:14.773591",
     "status": "completed"
    },
    "tags": []
   },
   "outputs": [],
   "source": [
    "import numpy as np\n",
    "import pandas as pd\n",
    "import matplotlib.pyplot as plt"
   ]
  },
  {
   "cell_type": "code",
   "execution_count": 2,
   "id": "cf2031ee",
   "metadata": {
    "execution": {
     "iopub.execute_input": "2021-10-09T19:26:14.808910Z",
     "iopub.status.busy": "2021-10-09T19:26:14.808307Z",
     "iopub.status.idle": "2021-10-09T19:26:14.814310Z",
     "shell.execute_reply": "2021-10-09T19:26:14.814762Z"
    },
    "papermill": {
     "duration": 0.014496,
     "end_time": "2021-10-09T19:26:14.814938",
     "exception": false,
     "start_time": "2021-10-09T19:26:14.800442",
     "status": "completed"
    },
    "tags": []
   },
   "outputs": [],
   "source": [
    "class LinearRegression:\n",
    "    def fit(self, x, y):\n",
    "        slope = (x.mean() * y.mean() - (x * y).mean()) / (x.mean() ** 2 - (x**2).mean())\n",
    "        y_intercept = np.mean(y) - slope * np.mean(x)\n",
    "        self.slope = slope\n",
    "        self.y_intercept = y_intercept\n",
    "        return slope, y_intercept\n",
    "    \n",
    "    def predict(self, sample):\n",
    "        return self.slope * sample + self.y_intercept\n",
    "    \n",
    "    def score(self, y_true, y_pred):\n",
    "        ss_res = np.sum((y_true - y_pred) ** 2)\n",
    "        ss_tot = np.sum((y_true - np.mean(y_true)) ** 2)\n",
    "        return 1 - (ss_res / ss_tot)"
   ]
  },
  {
   "cell_type": "code",
   "execution_count": 3,
   "id": "1c64ef9c",
   "metadata": {
    "execution": {
     "iopub.execute_input": "2021-10-09T19:26:14.828927Z",
     "iopub.status.busy": "2021-10-09T19:26:14.828349Z",
     "iopub.status.idle": "2021-10-09T19:26:14.833030Z",
     "shell.execute_reply": "2021-10-09T19:26:14.832572Z"
    },
    "papermill": {
     "duration": 0.012781,
     "end_time": "2021-10-09T19:26:14.833179",
     "exception": false,
     "start_time": "2021-10-09T19:26:14.820398",
     "status": "completed"
    },
    "tags": []
   },
   "outputs": [],
   "source": [
    "x = np.array([1,2,3,4,5,6,7,8,9,10]).reshape((-1,1))\n",
    "y = np.array([5, 11, 10, 12, 17, 19, 20, 23, 22, 25]).reshape((-1,1))"
   ]
  },
  {
   "cell_type": "code",
   "execution_count": 4,
   "id": "04b5259d",
   "metadata": {
    "execution": {
     "iopub.execute_input": "2021-10-09T19:26:14.850655Z",
     "iopub.status.busy": "2021-10-09T19:26:14.850056Z",
     "iopub.status.idle": "2021-10-09T19:26:14.853159Z",
     "shell.execute_reply": "2021-10-09T19:26:14.852618Z"
    },
    "papermill": {
     "duration": 0.01465,
     "end_time": "2021-10-09T19:26:14.853296",
     "exception": false,
     "start_time": "2021-10-09T19:26:14.838646",
     "status": "completed"
    },
    "tags": []
   },
   "outputs": [],
   "source": [
    "model = LinearRegression()\n",
    "model.fit(x, y)\n",
    "y_pred = model.predict(x)"
   ]
  },
  {
   "cell_type": "code",
   "execution_count": 5,
   "id": "50f4a3a8",
   "metadata": {
    "execution": {
     "iopub.execute_input": "2021-10-09T19:26:14.885598Z",
     "iopub.status.busy": "2021-10-09T19:26:14.873726Z",
     "iopub.status.idle": "2021-10-09T19:26:15.068104Z",
     "shell.execute_reply": "2021-10-09T19:26:15.067534Z"
    },
    "papermill": {
     "duration": 0.20931,
     "end_time": "2021-10-09T19:26:15.068255",
     "exception": false,
     "start_time": "2021-10-09T19:26:14.858945",
     "status": "completed"
    },
    "tags": []
   },
   "outputs": [
    {
     "data": {
      "text/plain": [
       "[<matplotlib.lines.Line2D at 0x7fb5eba92710>]"
      ]
     },
     "execution_count": 5,
     "metadata": {},
     "output_type": "execute_result"
    },
    {
     "data": {
      "image/png": "[encoded data removed]",
      "text/plain": [
       "<Figure size 432x288 with 1 Axes>"
      ]
     },
     "metadata": {
      "needs_background": "light"
     },
     "output_type": "display_data"
    }
   ],
   "source": [
    "plt.scatter(x, y)\n",
    "plt.plot(x, model.predict(x))"
   ]
  },
  {
   "cell_type": "code",
   "execution_count": 6,
   "id": "8c060d2e",
   "metadata": {
    "execution": {
     "iopub.execute_input": "2021-10-09T19:26:15.091152Z",
     "iopub.status.busy": "2021-10-09T19:26:15.090201Z",
     "iopub.status.idle": "2021-10-09T19:26:15.094276Z",
     "shell.execute_reply": "2021-10-09T19:26:15.094905Z"
    },
    "papermill": {
     "duration": 0.018612,
     "end_time": "2021-10-09T19:26:15.095171",
     "exception": false,
     "start_time": "2021-10-09T19:26:15.076559",
     "status": "completed"
    },
    "tags": []
   },
   "outputs": [
    {
     "name": "stdout",
     "output_type": "stream",
     "text": [
      "Accuracy = 0.944855350622601%\n"
     ]
    }
   ],
   "source": [
    "accuracy = model.score(y, y_pred)\n",
    "print(f\"Accuracy = {accuracy}%\")"
   ]
  },
  {
   "cell_type": "code",
   "execution_count": 7,
   "id": "3fc8d237",
   "metadata": {
    "execution": {
     "iopub.execute_input": "2021-10-09T19:26:15.113805Z",
     "iopub.status.busy": "2021-10-09T19:26:15.113242Z",
     "iopub.status.idle": "2021-10-09T19:26:15.118251Z",
     "shell.execute_reply": "2021-10-09T19:26:15.118708Z"
    },
    "papermill": {
     "duration": 0.015546,
     "end_time": "2021-10-09T19:26:15.118871",
     "exception": false,
     "start_time": "2021-10-09T19:26:15.103325",
     "status": "completed"
    },
    "tags": []
   },
   "outputs": [],
   "source": [
    "def r2(y_true, y_pred):\n",
    "    ss_res = np.sum((y_true - y_pred) ** 2)\n",
    "    ss_tot = np.sum((y_true - np.mean(y_true)) ** 2)\n",
    "    return 1 - (ss_res / ss_tot)\n",
    "\n",
    "def r2_adj(y_true, y_pred, n_predictors=1):\n",
    "    r2_value = r2(y_true, y_pred)\n",
    "    r2_adjusted = 1 - ( ( (1 - r2_value) * (y.shape[0] - 1) ) / (y.shape[0] - n_predictors - 1) )\n",
    "    return r2_adjusted\n"
   ]
  },
  {
   "cell_type": "code",
   "execution_count": 8,
   "id": "b2446048",
   "metadata": {
    "execution": {
     "iopub.execute_input": "2021-10-09T19:26:15.143894Z",
     "iopub.status.busy": "2021-10-09T19:26:15.143289Z",
     "iopub.status.idle": "2021-10-09T19:26:15.157237Z",
     "shell.execute_reply": "2021-10-09T19:26:15.157727Z"
    },
    "papermill": {
     "duration": 0.031907,
     "end_time": "2021-10-09T19:26:15.157909",
     "exception": false,
     "start_time": "2021-10-09T19:26:15.126002",
     "status": "completed"
    },
    "tags": []
   },
   "outputs": [
    {
     "data": {
      "text/html": [
       "<div>\n",
       "<style scoped>\n",
       "    .dataframe tbody tr th:only-of-type {\n",
       "        vertical-align: middle;\n",
       "    }\n",
       "\n",
       "    .dataframe tbody tr th {\n",
       "        vertical-align: top;\n",
       "    }\n",
       "\n",
       "    .dataframe thead th {\n",
       "        text-align: right;\n",
       "    }\n",
       "</style>\n",
       "<table border=\"1\" class=\"dataframe\">\n",
       "  <thead>\n",
       "    <tr style=\"text-align: right;\">\n",
       "      <th></th>\n",
       "      <th>R^2</th>\n",
       "      <th>R^2 Adjusted</th>\n",
       "    </tr>\n",
       "  </thead>\n",
       "  <tbody>\n",
       "    <tr>\n",
       "      <th>0</th>\n",
       "      <td>0.944855</td>\n",
       "      <td>0.937962</td>\n",
       "    </tr>\n",
       "  </tbody>\n",
       "</table>\n",
       "</div>"
      ],
      "text/plain": [
       "        R^2  R^2 Adjusted\n",
       "0  0.944855      0.937962"
      ]
     },
     "execution_count": 8,
     "metadata": {},
     "output_type": "execute_result"
    }
   ],
   "source": [
    "r2_score = r2(y, y_pred)\n",
    "r2_adjusted = r2_adj(y, y_pred, x.shape[1])\n",
    "pd.DataFrame(columns=[\"R^2\", \"R^2 Adjusted\"], data=np.array([np.array([r2_score, r2_adjusted])]))"
   ]
  }
 ],
 "metadata": {
  "kernelspec": {
   "display_name": "Python 3",
   "language": "python",
   "name": "python3"
  },
  "language_info": {
   "codemirror_mode": {
    "name": "ipython",
    "version": 3
   },
   "file_extension": ".py",
   "mimetype": "text/x-python",
   "name": "python",
   "nbconvert_exporter": "python",
   "pygments_lexer": "ipython3",
   "version": "3.7.10"
  },
  "papermill": {
   "default_parameters": {},
   "duration": 8.628103,
   "end_time": "2021-10-09T19:26:15.776459",
   "environment_variables": {},
   "exception": null,
   "input_path": "__notebook__.ipynb",
   "output_path": "__notebook__.ipynb",
   "parameters": {},
   "start_time": "2021-10-09T19:26:07.148356",
   "version": "2.3.3"
  }
 },
 "nbformat": 4,
 "nbformat_minor": 5
}
