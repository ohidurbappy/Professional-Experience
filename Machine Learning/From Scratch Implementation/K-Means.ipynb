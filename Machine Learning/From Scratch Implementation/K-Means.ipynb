{
 "cells": [
  {
   "cell_type": "code",
   "execution_count": 1,
   "id": "83b289b9",
   "metadata": {
    "execution": {
     "iopub.execute_input": "2021-09-14T21:55:01.595121Z",
     "iopub.status.busy": "2021-09-14T21:55:01.593820Z",
     "iopub.status.idle": "2021-09-14T21:55:01.605397Z",
     "shell.execute_reply": "2021-09-14T21:55:01.604362Z"
    },
    "papermill": {
     "duration": 0.023589,
     "end_time": "2021-09-14T21:55:01.605609",
     "exception": false,
     "start_time": "2021-09-14T21:55:01.582020",
     "status": "completed"
    },
    "tags": []
   },
   "outputs": [],
   "source": [
    "import numpy as np\n",
    "import pandas as pd\n",
    "import matplotlib.pyplot as plt"
   ]
  },
  {
   "cell_type": "code",
   "execution_count": 2,
   "id": "82d2bb29",
   "metadata": {
    "execution": {
     "iopub.execute_input": "2021-09-14T21:55:01.628853Z",
     "iopub.status.busy": "2021-09-14T21:55:01.622059Z",
     "iopub.status.idle": "2021-09-14T21:55:01.630630Z",
     "shell.execute_reply": "2021-09-14T21:55:01.631146Z"
    },
    "papermill": {
     "duration": 0.018572,
     "end_time": "2021-09-14T21:55:01.631323",
     "exception": false,
     "start_time": "2021-09-14T21:55:01.612751",
     "status": "completed"
    },
    "tags": []
   },
   "outputs": [],
   "source": [
    "# Initialize data\n",
    "x1 = np.array([2,3,5,7, 11,12,14,16,18,  17,20,22,23,26,27])\n",
    "x2 = np.array([15,17,18,13, 7,4,8,4,6,  16,12,15,20,16,12])\n",
    "X = pd.DataFrame(data=(x1,x2))"
   ]
  },
  {
   "cell_type": "code",
   "execution_count": 3,
   "id": "fd1c3732",
   "metadata": {
    "execution": {
     "iopub.execute_input": "2021-09-14T21:55:01.668953Z",
     "iopub.status.busy": "2021-09-14T21:55:01.668243Z",
     "iopub.status.idle": "2021-09-14T21:55:01.916475Z",
     "shell.execute_reply": "2021-09-14T21:55:01.915931Z"
    },
    "papermill": {
     "duration": 0.278563,
     "end_time": "2021-09-14T21:55:01.916610",
     "exception": false,
     "start_time": "2021-09-14T21:55:01.638047",
     "status": "completed"
    },
    "tags": []
   },
   "outputs": [
    {
     "data": {
      "text/plain": [
       "<matplotlib.collections.PathCollection at 0x7f75a990ec10>"
      ]
     },
     "execution_count": 3,
     "metadata": {},
     "output_type": "execute_result"
    },
    {
     "data": {
      "image/png": "[encoded data removed]",
      "text/plain": [
       "<Figure size 432x288 with 1 Axes>"
      ]
     },
     "metadata": {
      "needs_background": "light"
     },
     "output_type": "display_data"
    }
   ],
   "source": [
    "plt.scatter(x1, x2)"
   ]
  },
  {
   "cell_type": "code",
   "execution_count": 4,
   "id": "2f91df30",
   "metadata": {
    "execution": {
     "iopub.execute_input": "2021-09-14T21:55:01.941993Z",
     "iopub.status.busy": "2021-09-14T21:55:01.941235Z",
     "iopub.status.idle": "2021-09-14T21:55:01.943764Z",
     "shell.execute_reply": "2021-09-14T21:55:01.943120Z"
    },
    "papermill": {
     "duration": 0.019445,
     "end_time": "2021-09-14T21:55:01.943922",
     "exception": false,
     "start_time": "2021-09-14T21:55:01.924477",
     "status": "completed"
    },
    "tags": []
   },
   "outputs": [],
   "source": [
    "def generate_random_clusters(X, k):\n",
    "    clusters = np.array(np.array([\n",
    "        np.random.randint(X.iloc[i,:].min(), X.iloc[i,:].max(), k) for i in range(X.shape[0])\n",
    "        ])).T\n",
    "    return clusters\n",
    "\n",
    "def check_all_clusters_used(k, classes):\n",
    "    for i in range(k):\n",
    "        if i not in classes:\n",
    "            return False\n",
    "    return True\n",
    "\n",
    "def measure_distances(points, clusters):\n",
    "    return np.array([np.sum((X.values.T - cluster) ** 2, axis=1) for cluster in clusters])\n",
    "\n",
    "def predict(clusters, data):\n",
    "    distances =  measure_distances(X.values.T, clusters)\n",
    "    classes = distances.argmin(axis=0)\n",
    "    return classes"
   ]
  },
  {
   "cell_type": "code",
   "execution_count": 5,
   "id": "de9e7392",
   "metadata": {
    "execution": {
     "iopub.execute_input": "2021-09-14T21:55:01.974942Z",
     "iopub.status.busy": "2021-09-14T21:55:01.974185Z",
     "iopub.status.idle": "2021-09-14T21:55:01.977642Z",
     "shell.execute_reply": "2021-09-14T21:55:01.977112Z"
    },
    "papermill": {
     "duration": 0.025827,
     "end_time": "2021-09-14T21:55:01.977786",
     "exception": false,
     "start_time": "2021-09-14T21:55:01.951959",
     "status": "completed"
    },
    "tags": []
   },
   "outputs": [],
   "source": [
    "def kmeans(X, k=5, max_iter=300, convergence_threshold=5):\n",
    "    # Keep track of each clustering epoch & its variation\n",
    "    variations = np.empty((0,), float)\n",
    "    clusters_tries = np.empty((0, k, X.shape[0]), float)\n",
    "    \n",
    "    # Generate random K clusters\n",
    "    current_clusters = generate_random_clusters(X, k)\n",
    "    \n",
    "    same_variation_counter = 0\n",
    "    clusters_randomly_generated_counter = 1\n",
    "    \n",
    "    # Run algorithm until max_iter or stopping condition\n",
    "    for i in range(max_iter):\n",
    "        distances = measure_distances(X.values.T, current_clusters)\n",
    "        classes = distances.argmin(axis=0)\n",
    "\n",
    "        # If any cluster has 0 data points, regenarate random clusters\n",
    "        if(not check_all_clusters_used(k, classes)):\n",
    "            current_clusters = generate_random_clusters(X, k)\n",
    "            clusters_randomly_generated_counter += 1\n",
    "            continue\n",
    "\n",
    "        variation = np.unique(distances.argmin(axis=0), return_counts=True)[1].var() \n",
    "        new_clusters = np.array([X.values.T[classes == i].mean(axis=0) for i in range(current_clusters.shape[0])])\n",
    "\n",
    "        # If variation is ZERO but there exist new positions for clusters,\n",
    "        # then it's FAKE minimum variation, set it to inf to ignore it later\n",
    "        if variation == 0 and (current_clusters != new_clusters).all():\n",
    "            variation = float(\"inf\")\n",
    "\n",
    "        # Reposition clusters\n",
    "        current_clusters = new_clusters\n",
    "        clusters_tries = np.concatenate((clusters_tries, np.array([current_clusters])))\n",
    "        variations = np.append(variations, variation)\n",
    "\n",
    "        # If current variation is the minimum variation of all tries\n",
    "        # increment same_variation_counter\n",
    "        if len(variations) > 2 and variations.min() == variation:\n",
    "            same_variation_counter += 1\n",
    "\n",
    "        # If same_variation_counter crossed convergence threshold\n",
    "        # regenerate random clusters, in order to find the\n",
    "        # global minimum variation\n",
    "        if same_variation_counter > convergence_threshold:\n",
    "            current_clusters =  generate_random_clusters(X, k)\n",
    "            clusters_randomly_generated_counter += 1\n",
    "            same_variation_counter = 0\n",
    "\n",
    "        # If clusters are generated for (n) times\n",
    "        # it means the same variation has occured for (n)^2 times\n",
    "        # now we can stop optimization\n",
    "        if clusters_randomly_generated_counter == convergence_threshold:\n",
    "            break\n",
    "\n",
    "    # Find minimum variation, searching from the end of the array\n",
    "    best_variation_index = np.where(variations == variations.min())[0][-1]\n",
    "    best_clusters = clusters_tries[best_variation_index]\n",
    "    return best_clusters"
   ]
  },
  {
   "cell_type": "code",
   "execution_count": 6,
   "id": "935fa260",
   "metadata": {
    "execution": {
     "iopub.execute_input": "2021-09-14T21:55:02.003920Z",
     "iopub.status.busy": "2021-09-14T21:55:02.003093Z",
     "iopub.status.idle": "2021-09-14T21:55:02.018063Z",
     "shell.execute_reply": "2021-09-14T21:55:02.017473Z"
    },
    "papermill": {
     "duration": 0.032345,
     "end_time": "2021-09-14T21:55:02.018205",
     "exception": false,
     "start_time": "2021-09-14T21:55:01.985860",
     "status": "completed"
    },
    "tags": []
   },
   "outputs": [],
   "source": [
    "k = 3\n",
    "best_clusters = kmeans(X, k)\n",
    "y_pred = predict(best_clusters, X)"
   ]
  },
  {
   "cell_type": "code",
   "execution_count": 7,
   "id": "f476cc3b",
   "metadata": {
    "execution": {
     "iopub.execute_input": "2021-09-14T21:55:02.069302Z",
     "iopub.status.busy": "2021-09-14T21:55:02.057609Z",
     "iopub.status.idle": "2021-09-14T21:55:02.252819Z",
     "shell.execute_reply": "2021-09-14T21:55:02.252245Z"
    },
    "papermill": {
     "duration": 0.226616,
     "end_time": "2021-09-14T21:55:02.252978",
     "exception": false,
     "start_time": "2021-09-14T21:55:02.026362",
     "status": "completed"
    },
    "tags": []
   },
   "outputs": [
    {
     "data": {
      "text/plain": [
       "<matplotlib.collections.PathCollection at 0x7f75a97d7fd0>"
      ]
     },
     "execution_count": 7,
     "metadata": {},
     "output_type": "execute_result"
    },
    {
     "data": {
      "image/png": "[encoded data removed]",
      "text/plain": [
       "<Figure size 432x288 with 1 Axes>"
      ]
     },
     "metadata": {
      "needs_background": "light"
     },
     "output_type": "display_data"
    }
   ],
   "source": [
    "colors = np.array(['red', 'green', 'blue'])\n",
    "plt.scatter(x1,x2, color=colors[y_pred])\n",
    "plt.scatter(best_clusters[:,0], best_clusters[:,1], color=colors, s=80)"
   ]
  }
 ],
 "metadata": {
  "kernelspec": {
   "display_name": "Python 3",
   "language": "python",
   "name": "python3"
  },
  "language_info": {
   "codemirror_mode": {
    "name": "ipython",
    "version": 3
   },
   "file_extension": ".py",
   "mimetype": "text/x-python",
   "name": "python",
   "nbconvert_exporter": "python",
   "pygments_lexer": "ipython3",
   "version": "3.7.10"
  },
  "papermill": {
   "default_parameters": {},
   "duration": 9.483479,
   "end_time": "2021-09-14T21:55:02.874637",
   "environment_variables": {},
   "exception": null,
   "input_path": "__notebook__.ipynb",
   "output_path": "__notebook__.ipynb",
   "parameters": {},
   "start_time": "2021-09-14T21:54:53.391158",
   "version": "2.3.3"
  }
 },
 "nbformat": 4,
 "nbformat_minor": 5
}
