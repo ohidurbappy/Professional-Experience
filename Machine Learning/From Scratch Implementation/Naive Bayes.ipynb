{
 "cells": [
  {
   "cell_type": "code",
   "execution_count": 1,
   "id": "adb3478f",
   "metadata": {
    "execution": {
     "iopub.execute_input": "2021-09-23T18:06:19.048234Z",
     "iopub.status.busy": "2021-09-23T18:06:19.047297Z",
     "iopub.status.idle": "2021-09-23T18:06:19.056193Z",
     "shell.execute_reply": "2021-09-23T18:06:19.055343Z",
     "shell.execute_reply.started": "2021-09-23T18:03:58.025808Z"
    },
    "papermill": {
     "duration": 0.027997,
     "end_time": "2021-09-23T18:06:19.056372",
     "exception": false,
     "start_time": "2021-09-23T18:06:19.028375",
     "status": "completed"
    },
    "tags": []
   },
   "outputs": [],
   "source": [
    "import numpy as np\n",
    "import pandas as pd\n",
    "import matplotlib.pyplot as plt"
   ]
  },
  {
   "cell_type": "code",
   "execution_count": 2,
   "id": "80b88bc9",
   "metadata": {
    "execution": {
     "iopub.execute_input": "2021-09-23T18:06:19.078236Z",
     "iopub.status.busy": "2021-09-23T18:06:19.077532Z",
     "iopub.status.idle": "2021-09-23T18:06:19.123782Z",
     "shell.execute_reply": "2021-09-23T18:06:19.124304Z",
     "shell.execute_reply.started": "2021-09-23T18:04:04.665140Z"
    },
    "papermill": {
     "duration": 0.05932,
     "end_time": "2021-09-23T18:06:19.124476",
     "exception": false,
     "start_time": "2021-09-23T18:06:19.065156",
     "status": "completed"
    },
    "tags": []
   },
   "outputs": [
    {
     "data": {
      "text/html": [
       "<div>\n",
       "<style scoped>\n",
       "    .dataframe tbody tr th:only-of-type {\n",
       "        vertical-align: middle;\n",
       "    }\n",
       "\n",
       "    .dataframe tbody tr th {\n",
       "        vertical-align: top;\n",
       "    }\n",
       "\n",
       "    .dataframe thead th {\n",
       "        text-align: right;\n",
       "    }\n",
       "</style>\n",
       "<table border=\"1\" class=\"dataframe\">\n",
       "  <thead>\n",
       "    <tr style=\"text-align: right;\">\n",
       "      <th></th>\n",
       "      <th>text</th>\n",
       "      <th>spam</th>\n",
       "    </tr>\n",
       "  </thead>\n",
       "  <tbody>\n",
       "    <tr>\n",
       "      <th>0</th>\n",
       "      <td>dear friend im writing to you from hogwarts</td>\n",
       "      <td>0</td>\n",
       "    </tr>\n",
       "    <tr>\n",
       "      <th>1</th>\n",
       "      <td>dear dad lets have a lunch with my friend</td>\n",
       "      <td>0</td>\n",
       "    </tr>\n",
       "    <tr>\n",
       "      <th>2</th>\n",
       "      <td>dear mom ive got a new friend and new lunch bu...</td>\n",
       "      <td>0</td>\n",
       "    </tr>\n",
       "    <tr>\n",
       "      <th>3</th>\n",
       "      <td>dear sara with all my love your friend</td>\n",
       "      <td>0</td>\n",
       "    </tr>\n",
       "    <tr>\n",
       "      <th>4</th>\n",
       "      <td>dear brother my brother from another mother</td>\n",
       "      <td>0</td>\n",
       "    </tr>\n",
       "    <tr>\n",
       "      <th>5</th>\n",
       "      <td>dear friend ive nothing to say but im eating m...</td>\n",
       "      <td>0</td>\n",
       "    </tr>\n",
       "    <tr>\n",
       "      <th>6</th>\n",
       "      <td>dear a very normal message nothing wrong with ...</td>\n",
       "      <td>0</td>\n",
       "    </tr>\n",
       "    <tr>\n",
       "      <th>7</th>\n",
       "      <td>dear someone what do you know about kdlqlwkmwki</td>\n",
       "      <td>0</td>\n",
       "    </tr>\n",
       "    <tr>\n",
       "      <th>8</th>\n",
       "      <td>dear is a word used for greetings learn now on...</td>\n",
       "      <td>1</td>\n",
       "    </tr>\n",
       "    <tr>\n",
       "      <th>9</th>\n",
       "      <td>dear user earn money now</td>\n",
       "      <td>1</td>\n",
       "    </tr>\n",
       "    <tr>\n",
       "      <th>10</th>\n",
       "      <td>invite your friend now to earn lots of money</td>\n",
       "      <td>1</td>\n",
       "    </tr>\n",
       "    <tr>\n",
       "      <th>11</th>\n",
       "      <td>dont miss the chance to earn free money</td>\n",
       "      <td>1</td>\n",
       "    </tr>\n",
       "  </tbody>\n",
       "</table>\n",
       "</div>"
      ],
      "text/plain": [
       "                                                 text  spam\n",
       "0         dear friend im writing to you from hogwarts     0\n",
       "1           dear dad lets have a lunch with my friend     0\n",
       "2   dear mom ive got a new friend and new lunch bu...     0\n",
       "3              dear sara with all my love your friend     0\n",
       "4         dear brother my brother from another mother     0\n",
       "5   dear friend ive nothing to say but im eating m...     0\n",
       "6   dear a very normal message nothing wrong with ...     0\n",
       "7     dear someone what do you know about kdlqlwkmwki     0\n",
       "8   dear is a word used for greetings learn now on...     1\n",
       "9                            dear user earn money now     1\n",
       "10       invite your friend now to earn lots of money     1\n",
       "11            dont miss the chance to earn free money     1"
      ]
     },
     "execution_count": 2,
     "metadata": {},
     "output_type": "execute_result"
    }
   ],
   "source": [
    "data = pd.read_csv(\"../input/emails-sample/emails.csv\")\n",
    "data.head(data.shape[0])"
   ]
  },
  {
   "cell_type": "code",
   "execution_count": 3,
   "id": "5e5f1f92",
   "metadata": {
    "execution": {
     "iopub.execute_input": "2021-09-23T18:06:19.152231Z",
     "iopub.status.busy": "2021-09-23T18:06:19.145439Z",
     "iopub.status.idle": "2021-09-23T18:06:19.154081Z",
     "shell.execute_reply": "2021-09-23T18:06:19.154632Z",
     "shell.execute_reply.started": "2021-09-23T18:04:17.891416Z"
    },
    "papermill": {
     "duration": 0.021386,
     "end_time": "2021-09-23T18:06:19.154808",
     "exception": false,
     "start_time": "2021-09-23T18:06:19.133422",
     "status": "completed"
    },
    "tags": []
   },
   "outputs": [],
   "source": [
    "def clean(text):\n",
    "    text = text.lower()\n",
    "    text = text.replace(\",\", \"\").replace(\"'\",\"\").replace(\"?\",\"\")\n",
    "    return text\n",
    "\n",
    "# Add 1 to each word count (to avoid zeros in probabilities)\n",
    "def add_alpha(dtm):\n",
    "    words = dtm['word'].unique()\n",
    "    classes = dtm['spam'].unique()\n",
    "    for word in words:\n",
    "        for _class in classes:\n",
    "            row = dtm[(dtm['word'] == word) & (dtm['spam'] == _class)]\n",
    "            word_index = -1 if row.index.shape[0] == 0 else row.index[0]\n",
    "            if word_index != -1:\n",
    "                dtm.iloc[word_index]['count'] += 1\n",
    "            else:\n",
    "                dtm = dtm.append(pd.Series({\"word\":word, \"count\":1, \"spam\":_class}), ignore_index=True)\n",
    "    return dtm"
   ]
  },
  {
   "cell_type": "code",
   "execution_count": 4,
   "id": "905a70b6",
   "metadata": {
    "execution": {
     "iopub.execute_input": "2021-09-23T18:06:19.175162Z",
     "iopub.status.busy": "2021-09-23T18:06:19.174487Z",
     "iopub.status.idle": "2021-09-23T18:06:19.190454Z",
     "shell.execute_reply": "2021-09-23T18:06:19.189827Z",
     "shell.execute_reply.started": "2021-09-23T18:04:27.463258Z"
    },
    "papermill": {
     "duration": 0.02723,
     "end_time": "2021-09-23T18:06:19.190611",
     "exception": false,
     "start_time": "2021-09-23T18:06:19.163381",
     "status": "completed"
    },
    "tags": []
   },
   "outputs": [],
   "source": [
    "# Clean data & get a copy of data separated\n",
    "\n",
    "data['text'] = data['text'].apply(clean)\n",
    "\n",
    "non_spam_text = data[data['spam'] == 0]['text']\n",
    "spam_text = data[data['spam'] == 1]['text']"
   ]
  },
  {
   "cell_type": "code",
   "execution_count": 5,
   "id": "a4ab3b7d",
   "metadata": {
    "execution": {
     "iopub.execute_input": "2021-09-23T18:06:19.232216Z",
     "iopub.status.busy": "2021-09-23T18:06:19.231494Z",
     "iopub.status.idle": "2021-09-23T18:06:19.234281Z",
     "shell.execute_reply": "2021-09-23T18:06:19.234764Z",
     "shell.execute_reply.started": "2021-09-23T18:04:31.465335Z"
    },
    "papermill": {
     "duration": 0.035688,
     "end_time": "2021-09-23T18:06:19.234937",
     "exception": false,
     "start_time": "2021-09-23T18:06:19.199249",
     "status": "completed"
    },
    "tags": []
   },
   "outputs": [
    {
     "data": {
      "text/html": [
       "<div>\n",
       "<style scoped>\n",
       "    .dataframe tbody tr th:only-of-type {\n",
       "        vertical-align: middle;\n",
       "    }\n",
       "\n",
       "    .dataframe tbody tr th {\n",
       "        vertical-align: top;\n",
       "    }\n",
       "\n",
       "    .dataframe thead th {\n",
       "        text-align: right;\n",
       "    }\n",
       "</style>\n",
       "<table border=\"1\" class=\"dataframe\">\n",
       "  <thead>\n",
       "    <tr style=\"text-align: right;\">\n",
       "      <th></th>\n",
       "      <th>word</th>\n",
       "      <th>count</th>\n",
       "      <th>spam</th>\n",
       "    </tr>\n",
       "  </thead>\n",
       "  <tbody>\n",
       "    <tr>\n",
       "      <th>0</th>\n",
       "      <td>a</td>\n",
       "      <td>3</td>\n",
       "      <td>0.0</td>\n",
       "    </tr>\n",
       "    <tr>\n",
       "      <th>1</th>\n",
       "      <td>about</td>\n",
       "      <td>1</td>\n",
       "      <td>0.0</td>\n",
       "    </tr>\n",
       "    <tr>\n",
       "      <th>2</th>\n",
       "      <td>all</td>\n",
       "      <td>1</td>\n",
       "      <td>0.0</td>\n",
       "    </tr>\n",
       "    <tr>\n",
       "      <th>3</th>\n",
       "      <td>and</td>\n",
       "      <td>1</td>\n",
       "      <td>0.0</td>\n",
       "    </tr>\n",
       "    <tr>\n",
       "      <th>4</th>\n",
       "      <td>another</td>\n",
       "      <td>1</td>\n",
       "      <td>0.0</td>\n",
       "    </tr>\n",
       "    <tr>\n",
       "      <th>...</th>\n",
       "      <td>...</td>\n",
       "      <td>...</td>\n",
       "      <td>...</td>\n",
       "    </tr>\n",
       "    <tr>\n",
       "      <th>22</th>\n",
       "      <td>used</td>\n",
       "      <td>1</td>\n",
       "      <td>1.0</td>\n",
       "    </tr>\n",
       "    <tr>\n",
       "      <th>23</th>\n",
       "      <td>user</td>\n",
       "      <td>1</td>\n",
       "      <td>1.0</td>\n",
       "    </tr>\n",
       "    <tr>\n",
       "      <th>24</th>\n",
       "      <td>with</td>\n",
       "      <td>1</td>\n",
       "      <td>1.0</td>\n",
       "    </tr>\n",
       "    <tr>\n",
       "      <th>25</th>\n",
       "      <td>word</td>\n",
       "      <td>1</td>\n",
       "      <td>1.0</td>\n",
       "    </tr>\n",
       "    <tr>\n",
       "      <th>26</th>\n",
       "      <td>your</td>\n",
       "      <td>1</td>\n",
       "      <td>1.0</td>\n",
       "    </tr>\n",
       "  </tbody>\n",
       "</table>\n",
       "<p>72 rows × 3 columns</p>\n",
       "</div>"
      ],
      "text/plain": [
       "       word count spam\n",
       "0         a     3  0.0\n",
       "1     about     1  0.0\n",
       "2       all     1  0.0\n",
       "3       and     1  0.0\n",
       "4   another     1  0.0\n",
       "..      ...   ...  ...\n",
       "22     used     1  1.0\n",
       "23     user     1  1.0\n",
       "24     with     1  1.0\n",
       "25     word     1  1.0\n",
       "26     your     1  1.0\n",
       "\n",
       "[72 rows x 3 columns]"
      ]
     },
     "execution_count": 5,
     "metadata": {},
     "output_type": "execute_result"
    }
   ],
   "source": [
    "# Create count vectorizer for each class\n",
    "\n",
    "# Ham count vectorizer\n",
    "words, counts = np.unique(np.array(\" \".join(non_spam_text.to_numpy()).split(\" \")),return_counts=True)\n",
    "dtm_non_spam = pd.DataFrame(data=(words,counts, np.zeros(len(words)))).T\n",
    "\n",
    "# Spam count vectorizer\n",
    "words, counts = np.unique(np.array(\" \".join(spam_text.to_numpy()).split(\" \")),return_counts=True)\n",
    "dtm_spam = pd.DataFrame(data=(words,counts, np.ones(len(words)))).T\n",
    "\n",
    "# Concatenate countvectorizer into document term matrix\n",
    "dtm = pd.concat((dtm_non_spam, dtm_spam))\n",
    "dtm.columns = ['word', 'count', 'spam']\n",
    "dtm"
   ]
  },
  {
   "cell_type": "code",
   "execution_count": 6,
   "id": "9de40109",
   "metadata": {
    "execution": {
     "iopub.execute_input": "2021-09-23T18:06:19.257765Z",
     "iopub.status.busy": "2021-09-23T18:06:19.257132Z",
     "iopub.status.idle": "2021-09-23T18:06:19.513022Z",
     "shell.execute_reply": "2021-09-23T18:06:19.512478Z",
     "shell.execute_reply.started": "2021-09-23T18:05:00.332672Z"
    },
    "papermill": {
     "duration": 0.268145,
     "end_time": "2021-09-23T18:06:19.513170",
     "exception": false,
     "start_time": "2021-09-23T18:06:19.245025",
     "status": "completed"
    },
    "tags": []
   },
   "outputs": [
    {
     "data": {
      "text/html": [
       "<div>\n",
       "<style scoped>\n",
       "    .dataframe tbody tr th:only-of-type {\n",
       "        vertical-align: middle;\n",
       "    }\n",
       "\n",
       "    .dataframe tbody tr th {\n",
       "        vertical-align: top;\n",
       "    }\n",
       "\n",
       "    .dataframe thead th {\n",
       "        text-align: right;\n",
       "    }\n",
       "</style>\n",
       "<table border=\"1\" class=\"dataframe\">\n",
       "  <thead>\n",
       "    <tr style=\"text-align: right;\">\n",
       "      <th></th>\n",
       "      <th>word</th>\n",
       "      <th>count</th>\n",
       "      <th>spam</th>\n",
       "    </tr>\n",
       "  </thead>\n",
       "  <tbody>\n",
       "    <tr>\n",
       "      <th>8</th>\n",
       "      <td>dear</td>\n",
       "      <td>9</td>\n",
       "      <td>0.0</td>\n",
       "    </tr>\n",
       "    <tr>\n",
       "      <th>47</th>\n",
       "      <td>dear</td>\n",
       "      <td>3</td>\n",
       "      <td>1.0</td>\n",
       "    </tr>\n",
       "    <tr>\n",
       "      <th>11</th>\n",
       "      <td>friend</td>\n",
       "      <td>6</td>\n",
       "      <td>0.0</td>\n",
       "    </tr>\n",
       "    <tr>\n",
       "      <th>52</th>\n",
       "      <td>friend</td>\n",
       "      <td>2</td>\n",
       "      <td>1.0</td>\n",
       "    </tr>\n",
       "    <tr>\n",
       "      <th>23</th>\n",
       "      <td>lunch</td>\n",
       "      <td>4</td>\n",
       "      <td>0.0</td>\n",
       "    </tr>\n",
       "    <tr>\n",
       "      <th>92</th>\n",
       "      <td>lunch</td>\n",
       "      <td>1</td>\n",
       "      <td>1.0</td>\n",
       "    </tr>\n",
       "    <tr>\n",
       "      <th>26</th>\n",
       "      <td>money</td>\n",
       "      <td>2</td>\n",
       "      <td>0.0</td>\n",
       "    </tr>\n",
       "    <tr>\n",
       "      <th>60</th>\n",
       "      <td>money</td>\n",
       "      <td>5</td>\n",
       "      <td>1.0</td>\n",
       "    </tr>\n",
       "  </tbody>\n",
       "</table>\n",
       "</div>"
      ],
      "text/plain": [
       "      word count spam\n",
       "8     dear     9  0.0\n",
       "47    dear     3  1.0\n",
       "11  friend     6  0.0\n",
       "52  friend     2  1.0\n",
       "23   lunch     4  0.0\n",
       "92   lunch     1  1.0\n",
       "26   money     2  0.0\n",
       "60   money     5  1.0"
      ]
     },
     "execution_count": 6,
     "metadata": {},
     "output_type": "execute_result"
    }
   ],
   "source": [
    "# Add alpha (a number to increment counts to avoid zeros)\n",
    "dtm = add_alpha(dtm)\n",
    "\n",
    "# Initialize the example we're working on\n",
    "# for words: dear, friend, lunch, money\n",
    "example = dtm[dtm['word'].isin(['dear', 'friend', 'lunch', 'money'])].sort_values(by=\"word\")\n",
    "example"
   ]
  },
  {
   "cell_type": "code",
   "execution_count": 7,
   "id": "f1c0b1d5",
   "metadata": {
    "execution": {
     "iopub.execute_input": "2021-09-23T18:06:19.545145Z",
     "iopub.status.busy": "2021-09-23T18:06:19.544432Z",
     "iopub.status.idle": "2021-09-23T18:06:19.547930Z",
     "shell.execute_reply": "2021-09-23T18:06:19.547293Z",
     "shell.execute_reply.started": "2021-09-23T18:05:12.389586Z"
    },
    "papermill": {
     "duration": 0.025473,
     "end_time": "2021-09-23T18:06:19.548103",
     "exception": false,
     "start_time": "2021-09-23T18:06:19.522630",
     "status": "completed"
    },
    "tags": []
   },
   "outputs": [],
   "source": [
    "# Convert counts to probabilities (Term frequency)\n",
    "def counts_to_proba(dtm):\n",
    "    ham_words = dtm[dtm['spam'] == 0]\n",
    "    spam_words = dtm[dtm['spam'] == 1]\n",
    "    \n",
    "    ham_words_count = ham_words['count'].sum()\n",
    "    spam_words_count = spam_words['count'].sum()\n",
    "    \n",
    "    ham_words.rename(columns={\"count\":\"probability\"}, inplace=True)\n",
    "    spam_words.rename(columns={\"count\":\"probability\"}, inplace=True)\n",
    "    \n",
    "    # Probability of a word = \n",
    "    # word count in a specific class / total counts of words of that class\n",
    "    ham_words.loc[:,'probability'] = ham_words['probability'].apply(lambda count: count / ham_words_count)\n",
    "    spam_words.loc[:,'probability'] = spam_words['probability'].apply(lambda count: count / spam_words_count)\n",
    "    \n",
    "    return pd.concat((ham_words, spam_words))\n",
    "\n",
    "def naive_bayes(data, dtm, sentence):\n",
    "    \n",
    "    # Initialize prior probability\n",
    "    total_messages_count = data.shape[0]\n",
    "    ham_prior_proba = data[data['spam'] == 0].shape[0] / total_messages_count\n",
    "    spam_prior_proba = data[data['spam'] == 1].shape[0] / total_messages_count\n",
    "    \n",
    "    # Convert counts to probabilities (term frequency)\n",
    "    words_proba = counts_to_proba(dtm)\n",
    "    \n",
    "    # class probability is the production of \n",
    "    # class prior probability and probabilities of the words in a sentence\n",
    "    ham_probability = ham_prior_proba\n",
    "    spam_probability = spam_prior_proba\n",
    "    \n",
    "    # Multiply probabilities of each word in the sentence\n",
    "    for word in sentence:\n",
    "        # Get word and its probability \n",
    "        word_proba = words_proba[words_proba['word'] == word]\n",
    "        \n",
    "        # If word doesn't exist, ignore it\n",
    "        if word_proba.shape[0] == 0:\n",
    "            continue\n",
    "            \n",
    "        # Multiply production with word's probability for each class\n",
    "        ham_probability *= word_proba[word_proba['spam'] == 0]['probability'].values[0]\n",
    "        spam_probability *= word_proba[word_proba['spam'] == 1]['probability'].values[0]\n",
    "    return np.array([ham_probability, spam_probability])"
   ]
  },
  {
   "cell_type": "code",
   "execution_count": 8,
   "id": "df39f20a",
   "metadata": {
    "execution": {
     "iopub.execute_input": "2021-09-23T18:06:19.577271Z",
     "iopub.status.busy": "2021-09-23T18:06:19.576465Z",
     "iopub.status.idle": "2021-09-23T18:06:20.216413Z",
     "shell.execute_reply": "2021-09-23T18:06:20.216920Z",
     "shell.execute_reply.started": "2021-09-23T18:05:17.024010Z"
    },
    "papermill": {
     "duration": 0.659326,
     "end_time": "2021-09-23T18:06:20.217127",
     "exception": false,
     "start_time": "2021-09-23T18:06:19.557801",
     "status": "completed"
    },
    "tags": []
   },
   "outputs": [
    {
     "name": "stderr",
     "output_type": "stream",
     "text": [
      "/opt/conda/lib/python3.7/site-packages/pandas/core/frame.py:5042: SettingWithCopyWarning: \n",
      "A value is trying to be set on a copy of a slice from a DataFrame\n",
      "\n",
      "See the caveats in the documentation: https://pandas.pydata.org/pandas-docs/stable/user_guide/indexing.html#returning-a-view-versus-a-copy\n",
      "  errors=errors,\n",
      "/opt/conda/lib/python3.7/site-packages/pandas/core/indexing.py:1951: SettingWithCopyWarning: \n",
      "A value is trying to be set on a copy of a slice from a DataFrame.\n",
      "Try using .loc[row_indexer,col_indexer] = value instead\n",
      "\n",
      "See the caveats in the documentation: https://pandas.pydata.org/pandas-docs/stable/user_guide/indexing.html#returning-a-view-versus-a-copy\n",
      "  self.obj[selected_item_labels] = value\n"
     ]
    },
    {
     "data": {
      "image/png": "[encoded data removed]",
      "text/plain": [
       "<Figure size 432x288 with 1 Axes>"
      ]
     },
     "metadata": {
      "needs_background": "light"
     },
     "output_type": "display_data"
    },
    {
     "data": {
      "image/png": "[encoded data removed]",
      "text/plain": [
       "<Figure size 432x288 with 1 Axes>"
      ]
     },
     "metadata": {
      "needs_background": "light"
     },
     "output_type": "display_data"
    },
    {
     "data": {
      "image/png": "[encoded data removed]",
      "text/plain": [
       "<Figure size 432x288 with 1 Axes>"
      ]
     },
     "metadata": {
      "needs_background": "light"
     },
     "output_type": "display_data"
    },
    {
     "data": {
      "image/png": "[encoded data removed]",
      "text/plain": [
       "<Figure size 432x288 with 1 Axes>"
      ]
     },
     "metadata": {
      "needs_background": "light"
     },
     "output_type": "display_data"
    }
   ],
   "source": [
    "samples = np.array([\n",
    "    \"dear friend\",\n",
    "    \"dear dear dear friend\",\n",
    "    \"win money\",\n",
    "    \"money money money\",\n",
    "])\n",
    "\n",
    "for sample in samples:\n",
    "    ham_proba, spam_proba = naive_bayes(data, example, sample.split(\" \"))\n",
    "    plt.bar([\"Ham probability\", \"Spam probability\"], [ham_proba, spam_proba])\n",
    "    plt.title(sample)\n",
    "    plt.show()"
   ]
  }
 ],
 "metadata": {
  "kernelspec": {
   "display_name": "Python 3",
   "language": "python",
   "name": "python3"
  },
  "language_info": {
   "codemirror_mode": {
    "name": "ipython",
    "version": 3
   },
   "file_extension": ".py",
   "mimetype": "text/x-python",
   "name": "python",
   "nbconvert_exporter": "python",
   "pygments_lexer": "ipython3",
   "version": "3.7.10"
  },
  "papermill": {
   "default_parameters": {},
   "duration": 10.788896,
   "end_time": "2021-09-23T18:06:21.346906",
   "environment_variables": {},
   "exception": null,
   "input_path": "__notebook__.ipynb",
   "output_path": "__notebook__.ipynb",
   "parameters": {},
   "start_time": "2021-09-23T18:06:10.558010",
   "version": "2.3.3"
  }
 },
 "nbformat": 4,
 "nbformat_minor": 5
}
