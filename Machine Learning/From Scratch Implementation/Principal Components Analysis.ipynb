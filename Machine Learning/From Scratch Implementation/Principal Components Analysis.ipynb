{
 "cells": [
  {
   "cell_type": "code",
   "execution_count": 1,
   "id": "c1d17a5d",
   "metadata": {
    "execution": {
     "iopub.execute_input": "2021-09-06T20:37:57.914140Z",
     "iopub.status.busy": "2021-09-06T20:37:57.910190Z",
     "iopub.status.idle": "2021-09-06T20:37:57.916597Z",
     "shell.execute_reply": "2021-09-06T20:37:57.917076Z",
     "shell.execute_reply.started": "2021-09-06T14:40:21.263277Z"
    },
    "papermill": {
     "duration": 0.032202,
     "end_time": "2021-09-06T20:37:57.917347",
     "exception": false,
     "start_time": "2021-09-06T20:37:57.885145",
     "status": "completed"
    },
    "tags": []
   },
   "outputs": [],
   "source": [
    "import numpy as np\n",
    "import pandas as pd\n",
    "import matplotlib.pyplot as plt\n",
    "import math"
   ]
  },
  {
   "cell_type": "code",
   "execution_count": 2,
   "id": "cb4ca5a5",
   "metadata": {
    "execution": {
     "iopub.execute_input": "2021-09-06T20:37:58.060262Z",
     "iopub.status.busy": "2021-09-06T20:37:58.059522Z",
     "iopub.status.idle": "2021-09-06T20:37:58.062693Z",
     "shell.execute_reply": "2021-09-06T20:37:58.062188Z",
     "shell.execute_reply.started": "2021-09-06T14:40:24.057966Z"
    },
    "papermill": {
     "duration": 0.127528,
     "end_time": "2021-09-06T20:37:58.062840",
     "exception": false,
     "start_time": "2021-09-06T20:37:57.935312",
     "status": "completed"
    },
    "tags": []
   },
   "outputs": [],
   "source": [
    "# Define functions\n",
    "\n",
    "# Scale values\n",
    "def scale(arr):\n",
    "    return (np.array(arr) - np.mean(arr)) / np.std(arr)\n",
    "\n",
    "# Find the slope of the best fitting line\n",
    "def fit_slope(x, y):\n",
    "    return (np.mean(x) * np.mean(y) - np.mean(x * y)) / (np.mean(x)**2 - np.mean(x**2))\n",
    "\n",
    "# Rotate point counterclockwise\n",
    "def rotate(origin, point, angle):\n",
    "    \"\"\"\n",
    "    Rotate a point counterclockwise by a given angle around a given origin.\n",
    "\n",
    "    The angle should be given in radians.\n",
    "    \"\"\"\n",
    "    ox, oy = origin\n",
    "    px, py = point\n",
    "\n",
    "    qx = ox + math.cos(angle) * (px - ox) - math.sin(angle) * (py - oy)\n",
    "    qy = oy + math.sin(angle) * (px - ox) + math.cos(angle) * (py - oy)\n",
    "    return qx, qy\n",
    "\n",
    "# Calculate variation\n",
    "def variation(array, mean=0):\n",
    "    return np.sum((mean - array) ** 2) / (array.shape[0]-1)\n",
    "\n",
    "# Find the coordination of the intersection between 2 lines\n",
    "def lines_intersection(coefficients1, coefficients2):\n",
    "    coefficients1, coefficients2 = np.copy(coefficients1), np.copy(coefficients2)\n",
    "    if coefficients1.shape[0] < coefficients2.shape[0]:\n",
    "        coefficients1 = np.pad(coefficients1, (0,coefficients2.shape[0]-coefficients1.shape[0]), \n",
    "                           'constant', constant_values=0)\n",
    "        bias1 = 0\n",
    "        bias2 = coefficients2[-1]\n",
    "    elif coefficients1.shape[0] > coefficients2.shape[0]:\n",
    "        coefficients2 = np.pad(coefficients2, (0, coefficients1.shape[0]-coefficients2.shape[0]), \n",
    "                           'constant', constant_values=0)\n",
    "        bias2 = 0\n",
    "        bias1 = coefficients1[-1]\n",
    "    else:\n",
    "        bias1 = coefficients1[-1]\n",
    "        bias2 = coefficients2[-1]\n",
    "    bias_sum = bias2 - bias1\n",
    "    coefficients1 = coefficients1[:-1]\n",
    "    coefficients2 = coefficients2[:-1]\n",
    "    total = 0\n",
    "    for i in range(coefficients1.shape[0]):\n",
    "        total += coefficients1[i] + (-1 * coefficients2[i])\n",
    "        \n",
    "    # No intersection\n",
    "    if total == 0:\n",
    "        return None\n",
    "    x = (1/total) * bias_sum\n",
    "    y = [x * coefficients1 + bias1][0][0]\n",
    "    return [x,y]\n",
    "    \n",
    "# Find a prependicular line (can be moved from some point (origin))\n",
    "def find_prependicular_line(coefficients, origin=None):\n",
    "    coefficients = np.copy(coefficients)\n",
    "    bias = coefficients[-1]\n",
    "    slopes = coefficients[:-1]\n",
    "    slopes = -1 * np.reciprocal(slopes, dtype='float')\n",
    "    coefficients[:-1] = slopes\n",
    "    if origin is None:\n",
    "        origin = np.zeros(coefficients.shape[0]-1)\n",
    "    bias += np.sum(slopes * -1 * origin[:-1]) + origin[-1]\n",
    "    coefficients[-1] = bias\n",
    "    return coefficients\n",
    "\n",
    "def project_points_onto_line(x, y, coefficients):\n",
    "    if x.shape[0] != y.shape[0]:\n",
    "        return None\n",
    "    projections_x = np.zeros(x.shape[0])\n",
    "    projections_y = np.zeros(x.shape[0])\n",
    "    for i in range(x.shape[0]):\n",
    "        # pr is prependicular line\n",
    "        pr_slope, pr_b = find_prependicular_line(coefficients, np.array([x[i], y[i]]))\n",
    "        inter_x, inter_y = lines_intersection(coefficients, np.array([pr_slope, pr_b]))\n",
    "        projections_x[i] = inter_x\n",
    "        projections_y[i] = inter_y\n",
    "    return projections_x, projections_y"
   ]
  },
  {
   "cell_type": "code",
   "execution_count": 3,
   "id": "691250fc",
   "metadata": {
    "execution": {
     "iopub.execute_input": "2021-09-06T20:37:58.117412Z",
     "iopub.status.busy": "2021-09-06T20:37:58.116725Z",
     "iopub.status.idle": "2021-09-06T20:37:58.354195Z",
     "shell.execute_reply": "2021-09-06T20:37:58.354626Z",
     "shell.execute_reply.started": "2021-09-06T14:40:35.244814Z"
    },
    "papermill": {
     "duration": 0.275889,
     "end_time": "2021-09-06T20:37:58.354793",
     "exception": false,
     "start_time": "2021-09-06T20:37:58.078904",
     "status": "completed"
    },
    "tags": []
   },
   "outputs": [
    {
     "data": {
      "text/plain": [
       "Text(0.5, 1.0, 'Original data')"
      ]
     },
     "execution_count": 3,
     "metadata": {},
     "output_type": "execute_result"
    },
    {
     "data": {
      "image/png": "[encoded data removed]",
      "text/plain": [
       "<Figure size 432x288 with 1 Axes>"
      ]
     },
     "metadata": {
      "needs_background": "light"
     },
     "output_type": "display_data"
    }
   ],
   "source": [
    "# original data\n",
    "x1 = np.array([10, 11, 8, 3, 2, 1], dtype='float')\n",
    "x2 = np.array([6, 4, 5, 3, 2.8, 1], dtype='float')\n",
    "\n",
    "# Visualize\n",
    "plt.scatter(x1,x2)\n",
    "plt.axis('equal')\n",
    "plt.axvline(0)\n",
    "plt.axhline(0)\n",
    "plt.title(\"Original data\")"
   ]
  },
  {
   "cell_type": "code",
   "execution_count": 4,
   "id": "762e6bb9",
   "metadata": {
    "execution": {
     "iopub.execute_input": "2021-09-06T20:37:58.418215Z",
     "iopub.status.busy": "2021-09-06T20:37:58.417549Z",
     "iopub.status.idle": "2021-09-06T20:37:58.607824Z",
     "shell.execute_reply": "2021-09-06T20:37:58.607306Z",
     "shell.execute_reply.started": "2021-09-06T14:40:38.654324Z"
    },
    "papermill": {
     "duration": 0.237197,
     "end_time": "2021-09-06T20:37:58.607973",
     "exception": false,
     "start_time": "2021-09-06T20:37:58.370776",
     "status": "completed"
    },
    "tags": []
   },
   "outputs": [
    {
     "data": {
      "text/plain": [
       "Text(0.5, 1.0, 'Original data shifted to 0 as the new origin')"
      ]
     },
     "execution_count": 4,
     "metadata": {},
     "output_type": "execute_result"
    },
    {
     "data": {
      "image/png": "[encoded data removed]",
      "text/plain": [
       "<Figure size 432x288 with 1 Axes>"
      ]
     },
     "metadata": {
      "needs_background": "light"
     },
     "output_type": "display_data"
    }
   ],
   "source": [
    "# Shifting data to center\n",
    "x1_avg_pt = np.average(x1)\n",
    "x2_avg_pt = np.average(x2)\n",
    "x1 -= x1_avg_pt\n",
    "x2 -= x2_avg_pt\n",
    "\n",
    "# Visualize shifted data\n",
    "plt.scatter(x1, x2)\n",
    "plt.axis('equal')\n",
    "plt.axvline(0)\n",
    "plt.axhline(0)\n",
    "plt.title(\"Original data shifted to 0 as the new origin\")"
   ]
  },
  {
   "cell_type": "code",
   "execution_count": 5,
   "id": "249101d9",
   "metadata": {
    "execution": {
     "iopub.execute_input": "2021-09-06T20:37:58.669759Z",
     "iopub.status.busy": "2021-09-06T20:37:58.668505Z",
     "iopub.status.idle": "2021-09-06T20:37:58.855174Z",
     "shell.execute_reply": "2021-09-06T20:37:58.854650Z",
     "shell.execute_reply.started": "2021-09-06T14:40:41.581708Z"
    },
    "papermill": {
     "duration": 0.230553,
     "end_time": "2021-09-06T20:37:58.855314",
     "exception": false,
     "start_time": "2021-09-06T20:37:58.624761",
     "status": "completed"
    },
    "tags": []
   },
   "outputs": [
    {
     "data": {
      "text/plain": [
       "Text(0.5, 1.0, 'PC1')"
      ]
     },
     "execution_count": 5,
     "metadata": {},
     "output_type": "execute_result"
    },
    {
     "data": {
      "image/png": "[encoded data removed]",
      "text/plain": [
       "<Figure size 432x288 with 1 Axes>"
      ]
     },
     "metadata": {
      "needs_background": "light"
     },
     "output_type": "display_data"
    }
   ],
   "source": [
    "# Finding best fitting line which intersects with the origin\n",
    "pc1_x = np.arange(np.min(x1), np.max(x1)+1)\n",
    "pc1_slope = fit_slope(x1,x2)\n",
    "pc1_y = pc1_slope * pc1_x + 0\n",
    "\n",
    "# Visualize best fitting line (PC1)\n",
    "plt.scatter(x1, x2)\n",
    "plt.plot(pc1_x, pc1_y)\n",
    "plt.axis('equal')\n",
    "plt.axvline(0)\n",
    "plt.axhline(0)\n",
    "plt.title(\"PC1\")"
   ]
  },
  {
   "cell_type": "code",
   "execution_count": 6,
   "id": "358b527a",
   "metadata": {
    "execution": {
     "iopub.execute_input": "2021-09-06T20:37:58.895989Z",
     "iopub.status.busy": "2021-09-06T20:37:58.895346Z",
     "iopub.status.idle": "2021-09-06T20:37:58.897310Z",
     "shell.execute_reply": "2021-09-06T20:37:58.897719Z",
     "shell.execute_reply.started": "2021-09-06T14:40:44.217171Z"
    },
    "papermill": {
     "duration": 0.024951,
     "end_time": "2021-09-06T20:37:58.897880",
     "exception": false,
     "start_time": "2021-09-06T20:37:58.872929",
     "status": "completed"
    },
    "tags": []
   },
   "outputs": [],
   "source": [
    "# Finding PC2 (prependicular on PC1)\n",
    "pc2_x = np.arange(np.min(x2), np.max(x2)+1)\n",
    "pc2_slope = -1 * (1/pc1_slope)\n",
    "pc2_y = pc2_slope * pc2_x\n",
    "\n",
    "# # Scale values using Pythagorean theoery\n",
    "# a = 1/pc1_slope\n",
    "# b = 1\n",
    "# c = np.sqrt([a**2 + b**2])\n",
    "# # x1, x2, pc1_x, pc1_y, pc2_y, pc2_x = x1/c, x2/c, pc1_x/c, pc1_y/c, pc2_y/c, pc2_x/c"
   ]
  },
  {
   "cell_type": "code",
   "execution_count": 7,
   "id": "0e7c027c",
   "metadata": {
    "execution": {
     "iopub.execute_input": "2021-09-06T20:37:58.936024Z",
     "iopub.status.busy": "2021-09-06T20:37:58.935411Z",
     "iopub.status.idle": "2021-09-06T20:37:59.173595Z",
     "shell.execute_reply": "2021-09-06T20:37:59.172638Z",
     "shell.execute_reply.started": "2021-09-06T14:40:46.838056Z"
    },
    "papermill": {
     "duration": 0.258295,
     "end_time": "2021-09-06T20:37:59.173792",
     "exception": false,
     "start_time": "2021-09-06T20:37:58.915497",
     "status": "completed"
    },
    "tags": []
   },
   "outputs": [
    {
     "data": {
      "text/plain": [
       "Text(0.5, 1.0, 'PC1 (blue) & PC2 (red)')"
      ]
     },
     "execution_count": 7,
     "metadata": {},
     "output_type": "execute_result"
    },
    {
     "data": {
      "image/png": "[encoded data removed]",
      "text/plain": [
       "<Figure size 432x288 with 1 Axes>"
      ]
     },
     "metadata": {
      "needs_background": "light"
     },
     "output_type": "display_data"
    }
   ],
   "source": [
    "# Visualize PC1 & PC2\n",
    "plt.scatter(x1, x2)\n",
    "plt.plot(pc1_x, pc1_y)\n",
    "plt.plot(pc2_x, pc2_y, color='red')\n",
    "plt.axis('equal')\n",
    "plt.axvline(0)\n",
    "plt.axhline(0)\n",
    "plt.title(\"PC1 (blue) & PC2 (red)\")\n"
   ]
  },
  {
   "cell_type": "code",
   "execution_count": 8,
   "id": "138a3ea2",
   "metadata": {
    "execution": {
     "iopub.execute_input": "2021-09-06T20:37:59.217714Z",
     "iopub.status.busy": "2021-09-06T20:37:59.217124Z",
     "iopub.status.idle": "2021-09-06T20:37:59.219553Z",
     "shell.execute_reply": "2021-09-06T20:37:59.220043Z",
     "shell.execute_reply.started": "2021-09-06T14:40:51.930696Z"
    },
    "papermill": {
     "duration": 0.026492,
     "end_time": "2021-09-06T20:37:59.220217",
     "exception": false,
     "start_time": "2021-09-06T20:37:59.193725",
     "status": "completed"
    },
    "tags": []
   },
   "outputs": [],
   "source": [
    "# Projection of data points onto PC1\n",
    "projections_pc1_x, projections_pc1_y = project_points_onto_line(x1, x2, np.array([pc1_slope, 0]))"
   ]
  },
  {
   "cell_type": "code",
   "execution_count": 9,
   "id": "0924462e",
   "metadata": {
    "execution": {
     "iopub.execute_input": "2021-09-06T20:37:59.284660Z",
     "iopub.status.busy": "2021-09-06T20:37:59.277409Z",
     "iopub.status.idle": "2021-09-06T20:37:59.489948Z",
     "shell.execute_reply": "2021-09-06T20:37:59.489399Z",
     "shell.execute_reply.started": "2021-09-06T14:40:53.74564Z"
    },
    "papermill": {
     "duration": 0.251036,
     "end_time": "2021-09-06T20:37:59.490102",
     "exception": false,
     "start_time": "2021-09-06T20:37:59.239066",
     "status": "completed"
    },
    "tags": []
   },
   "outputs": [
    {
     "data": {
      "text/plain": [
       "Text(0.5, 1.0, 'Projection of data points onto PC1')"
      ]
     },
     "execution_count": 9,
     "metadata": {},
     "output_type": "execute_result"
    },
    {
     "data": {
      "image/png": "[encoded data removed]",
      "text/plain": [
       "<Figure size 432x288 with 1 Axes>"
      ]
     },
     "metadata": {
      "needs_background": "light"
     },
     "output_type": "display_data"
    }
   ],
   "source": [
    "# Visualize projections of data points on PC1\n",
    "plt.scatter(x1, x2)\n",
    "plt.scatter(projections_pc1_x, projections_pc1_y)\n",
    "plt.plot(pc1_x, pc1_y, color='red')\n",
    "plt.axis('equal')\n",
    "plt.axvline(0)\n",
    "plt.axhline(0)\n",
    "plt.title(\"Projection of data points onto PC1\")"
   ]
  },
  {
   "cell_type": "code",
   "execution_count": 10,
   "id": "8c420fa0",
   "metadata": {
    "execution": {
     "iopub.execute_input": "2021-09-06T20:37:59.536175Z",
     "iopub.status.busy": "2021-09-06T20:37:59.535202Z",
     "iopub.status.idle": "2021-09-06T20:37:59.537881Z",
     "shell.execute_reply": "2021-09-06T20:37:59.538330Z",
     "shell.execute_reply.started": "2021-09-06T14:40:59.463571Z"
    },
    "papermill": {
     "duration": 0.028386,
     "end_time": "2021-09-06T20:37:59.538499",
     "exception": false,
     "start_time": "2021-09-06T20:37:59.510113",
     "status": "completed"
    },
    "tags": []
   },
   "outputs": [],
   "source": [
    "# Projection of data points onto PC2\n",
    "projections_pc2_x, projections_pc2_y = project_points_onto_line(x1, x2, np.array([pc2_slope, 0]))"
   ]
  },
  {
   "cell_type": "code",
   "execution_count": 11,
   "id": "5cfe08f0",
   "metadata": {
    "execution": {
     "iopub.execute_input": "2021-09-06T20:37:59.613318Z",
     "iopub.status.busy": "2021-09-06T20:37:59.584212Z",
     "iopub.status.idle": "2021-09-06T20:37:59.821818Z",
     "shell.execute_reply": "2021-09-06T20:37:59.821209Z",
     "shell.execute_reply.started": "2021-09-06T14:41:01.000067Z"
    },
    "papermill": {
     "duration": 0.263358,
     "end_time": "2021-09-06T20:37:59.821950",
     "exception": false,
     "start_time": "2021-09-06T20:37:59.558592",
     "status": "completed"
    },
    "tags": []
   },
   "outputs": [
    {
     "data": {
      "text/plain": [
       "Text(0.5, 1.0, 'Projection of data points onto PC2')"
      ]
     },
     "execution_count": 11,
     "metadata": {},
     "output_type": "execute_result"
    },
    {
     "data": {
      "image/png": "[encoded data removed]",
      "text/plain": [
       "<Figure size 432x288 with 1 Axes>"
      ]
     },
     "metadata": {
      "needs_background": "light"
     },
     "output_type": "display_data"
    }
   ],
   "source": [
    "# Visualize of projection of data points onto PC2\n",
    "plt.scatter(x1, x2)\n",
    "plt.scatter(projections_pc2_x, projections_pc2_y)\n",
    "plt.plot(pc2_x, pc2_y, color='red')\n",
    "plt.axis('equal')\n",
    "plt.axvline(0)\n",
    "plt.axhline(0)\n",
    "plt.title(\"Projection of data points onto PC2\")"
   ]
  },
  {
   "cell_type": "code",
   "execution_count": 12,
   "id": "981c5d9f",
   "metadata": {
    "execution": {
     "iopub.execute_input": "2021-09-06T20:37:59.893168Z",
     "iopub.status.busy": "2021-09-06T20:37:59.886443Z",
     "iopub.status.idle": "2021-09-06T20:38:00.133492Z",
     "shell.execute_reply": "2021-09-06T20:38:00.133930Z",
     "shell.execute_reply.started": "2021-09-06T14:41:07.289451Z"
    },
    "papermill": {
     "duration": 0.29178,
     "end_time": "2021-09-06T20:38:00.134135",
     "exception": false,
     "start_time": "2021-09-06T20:37:59.842355",
     "status": "completed"
    },
    "tags": []
   },
   "outputs": [
    {
     "data": {
      "text/plain": [
       "Text(0.5, 1.0, 'Original data & their projections on PC1 and PC2')"
      ]
     },
     "execution_count": 12,
     "metadata": {},
     "output_type": "execute_result"
    },
    {
     "data": {
      "image/png": "[encoded data removed]",
      "text/plain": [
       "<Figure size 432x288 with 1 Axes>"
      ]
     },
     "metadata": {
      "needs_background": "light"
     },
     "output_type": "display_data"
    }
   ],
   "source": [
    "# Visualize original data & projections\n",
    "plt.scatter(x1, x2)\n",
    "plt.scatter(projections_pc1_x, projections_pc1_y, color='red')\n",
    "plt.scatter(projections_pc2_x, projections_pc2_y, color='green')\n",
    "plt.plot(pc1_x, pc1_y, color='red')\n",
    "plt.plot(pc2_x, pc2_y, color='green')\n",
    "plt.axis('equal')\n",
    "plt.axvline(0)\n",
    "plt.axhline(0)\n",
    "plt.title(\"Original data & their projections on PC1 and PC2\")"
   ]
  },
  {
   "cell_type": "code",
   "execution_count": 13,
   "id": "1118fece",
   "metadata": {
    "execution": {
     "iopub.execute_input": "2021-09-06T20:38:00.181693Z",
     "iopub.status.busy": "2021-09-06T20:38:00.181089Z",
     "iopub.status.idle": "2021-09-06T20:38:00.187524Z",
     "shell.execute_reply": "2021-09-06T20:38:00.188061Z",
     "shell.execute_reply.started": "2021-09-06T14:41:10.64444Z"
    },
    "papermill": {
     "duration": 0.031763,
     "end_time": "2021-09-06T20:38:00.188230",
     "exception": false,
     "start_time": "2021-09-06T20:38:00.156467",
     "status": "completed"
    },
    "tags": []
   },
   "outputs": [],
   "source": [
    "# Rotating all data points so PC1 & PC2 are identical onto X,Y axes\n",
    "degrees = math.atan(pc1_slope) * -1\n",
    "origin = [0,0]\n",
    "[x1,x2] = rotate(origin, [x1,x2], degrees)\n",
    "[pc1_x, pc1_y] = rotate(origin, [pc1_x, pc1_y], degrees)\n",
    "[pc2_x, pc2_y] = rotate(origin, [pc2_x, pc2_y], degrees)\n",
    "[projections_pc1_x, projections_pc1_y] = rotate(origin, [projections_pc1_x, projections_pc1_y], degrees)\n",
    "[projections_pc2_x, projections_pc2_y] = rotate(origin, [projections_pc2_x, projections_pc2_y], degrees)"
   ]
  },
  {
   "cell_type": "code",
   "execution_count": 14,
   "id": "a9a559a6",
   "metadata": {
    "execution": {
     "iopub.execute_input": "2021-09-06T20:38:00.234534Z",
     "iopub.status.busy": "2021-09-06T20:38:00.233911Z",
     "iopub.status.idle": "2021-09-06T20:38:00.454633Z",
     "shell.execute_reply": "2021-09-06T20:38:00.455134Z",
     "shell.execute_reply.started": "2021-09-06T14:41:12.72073Z"
    },
    "papermill": {
     "duration": 0.245355,
     "end_time": "2021-09-06T20:38:00.455302",
     "exception": false,
     "start_time": "2021-09-06T20:38:00.209947",
     "status": "completed"
    },
    "tags": []
   },
   "outputs": [
    {
     "data": {
      "text/plain": [
       "Text(0.5, 1.0, 'Projections of data after rotation')"
      ]
     },
     "execution_count": 14,
     "metadata": {},
     "output_type": "execute_result"
    },
    {
     "data": {
      "image/png": "[encoded data removed]",
      "text/plain": [
       "<Figure size 432x288 with 1 Axes>"
      ]
     },
     "metadata": {
      "needs_background": "light"
     },
     "output_type": "display_data"
    }
   ],
   "source": [
    "# Visualize projections of data after rotation\n",
    "plt.scatter(projections_pc1_x, projections_pc1_y)\n",
    "plt.scatter(projections_pc2_x, projections_pc2_y)\n",
    "plt.axis('equal')\n",
    "plt.axvline(0)\n",
    "plt.axhline(0)\n",
    "plt.title(\"Projections of data after rotation\")"
   ]
  },
  {
   "cell_type": "code",
   "execution_count": 15,
   "id": "18f41101",
   "metadata": {
    "execution": {
     "iopub.execute_input": "2021-09-06T20:38:00.507116Z",
     "iopub.status.busy": "2021-09-06T20:38:00.506464Z",
     "iopub.status.idle": "2021-09-06T20:38:00.712623Z",
     "shell.execute_reply": "2021-09-06T20:38:00.713101Z",
     "shell.execute_reply.started": "2021-09-06T14:41:16.265055Z"
    },
    "papermill": {
     "duration": 0.235077,
     "end_time": "2021-09-06T20:38:00.713270",
     "exception": false,
     "start_time": "2021-09-06T20:38:00.478193",
     "status": "completed"
    },
    "tags": []
   },
   "outputs": [
    {
     "data": {
      "text/plain": [
       "Text(0.5, 1.0, 'Corresponding Projections of PC1 & PC2')"
      ]
     },
     "execution_count": 15,
     "metadata": {},
     "output_type": "execute_result"
    },
    {
     "data": {
      "image/png": "[encoded data removed]",
      "text/plain": [
       "<Figure size 432x288 with 1 Axes>"
      ]
     },
     "metadata": {
      "needs_background": "light"
     },
     "output_type": "display_data"
    }
   ],
   "source": [
    "# Visualize the corresponding projections\n",
    "plt.scatter(projections_pc1_x, projections_pc2_y)\n",
    "plt.axis('equal')\n",
    "plt.axvline(0)\n",
    "plt.axhline(0)\n",
    "plt.title(\"Corresponding Projections of PC1 & PC2\")"
   ]
  },
  {
   "cell_type": "code",
   "execution_count": 16,
   "id": "7394096a",
   "metadata": {
    "execution": {
     "iopub.execute_input": "2021-09-06T20:38:00.766189Z",
     "iopub.status.busy": "2021-09-06T20:38:00.765550Z",
     "iopub.status.idle": "2021-09-06T20:38:00.767325Z",
     "shell.execute_reply": "2021-09-06T20:38:00.767803Z",
     "shell.execute_reply.started": "2021-09-06T14:41:18.805902Z"
    },
    "papermill": {
     "duration": 0.031152,
     "end_time": "2021-09-06T20:38:00.767953",
     "exception": false,
     "start_time": "2021-09-06T20:38:00.736801",
     "status": "completed"
    },
    "tags": []
   },
   "outputs": [],
   "source": [
    "# Calculate variations for PC1 and PC2 and the sum of them\n",
    "pc1_variation  = variation(projections_pc1_x, mean=0)\n",
    "pc2_variation = variation(projections_pc2_y, mean=0)\n",
    "total_variation = pc1_variation + pc2_variation\n",
    "\n",
    "# Calculate percentages of PC1 and PC2\n",
    "pc1_percentage = pc1_variation / total_variation * 100\n",
    "pc2_percentage = pc2_variation / total_variation * 100 # yeah I know it's 100 - pc1_percentage :)"
   ]
  },
  {
   "cell_type": "code",
   "execution_count": 17,
   "id": "c76b4bb3",
   "metadata": {
    "execution": {
     "iopub.execute_input": "2021-09-06T20:38:00.818715Z",
     "iopub.status.busy": "2021-09-06T20:38:00.818139Z",
     "iopub.status.idle": "2021-09-06T20:38:00.930809Z",
     "shell.execute_reply": "2021-09-06T20:38:00.930188Z",
     "shell.execute_reply.started": "2021-09-06T14:41:21.127835Z"
    },
    "papermill": {
     "duration": 0.139115,
     "end_time": "2021-09-06T20:38:00.930944",
     "exception": false,
     "start_time": "2021-09-06T20:38:00.791829",
     "status": "completed"
    },
    "tags": []
   },
   "outputs": [
    {
     "name": "stdout",
     "output_type": "stream",
     "text": [
      "PC1 Variation: 21.28023469133954\t PC1 Percentage: 96.31971043153078\n",
      "PC2 Variation: 0.8130986419937987\t PC2 Percentage: 3.6802895684692145\n"
     ]
    },
    {
     "data": {
      "image/png": "[encoded data removed]",
      "text/plain": [
       "<Figure size 432x288 with 1 Axes>"
      ]
     },
     "metadata": {
      "needs_background": "light"
     },
     "output_type": "display_data"
    }
   ],
   "source": [
    "# Visualize Percentages\n",
    "plt.bar([\"PC1\", \"PC2\"], [pc1_percentage, pc2_percentage], width=0.25)\n",
    "plt.title(\"PC1 and PC2 Percentages\")\n",
    "\n",
    "print(f\"PC1 Variation: {pc1_variation}\\t PC1 Percentage: {pc1_percentage}\")\n",
    "print(f\"PC2 Variation: {pc2_variation}\\t PC2 Percentage: {pc2_percentage}\")"
   ]
  }
 ],
 "metadata": {
  "kernelspec": {
   "display_name": "Python 3",
   "language": "python",
   "name": "python3"
  },
  "language_info": {
   "codemirror_mode": {
    "name": "ipython",
    "version": 3
   },
   "file_extension": ".py",
   "mimetype": "text/x-python",
   "name": "python",
   "nbconvert_exporter": "python",
   "pygments_lexer": "ipython3",
   "version": "3.7.10"
  },
  "papermill": {
   "default_parameters": {},
   "duration": 11.515245,
   "end_time": "2021-09-06T20:38:01.665462",
   "environment_variables": {},
   "exception": null,
   "input_path": "__notebook__.ipynb",
   "output_path": "__notebook__.ipynb",
   "parameters": {},
   "start_time": "2021-09-06T20:37:50.150217",
   "version": "2.3.3"
  }
 },
 "nbformat": 4,
 "nbformat_minor": 5
}
