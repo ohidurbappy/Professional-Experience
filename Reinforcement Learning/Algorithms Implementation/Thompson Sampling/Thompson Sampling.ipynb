{
 "cells": [
  {
   "cell_type": "code",
   "execution_count": null,
   "metadata": {},
   "outputs": [],
   "source": [
    "####### Import libraries #######\n",
    "import numpy as np\n",
    "import pandas as pd\n",
    "import matplotlib.pyplot as plt\n",
    "import random"
   ]
  },
  {
   "cell_type": "code",
   "execution_count": null,
   "metadata": {},
   "outputs": [],
   "source": [
    "####### Read dataset & Initialize variables\n",
    "dataset = pd.read_csv(\"Ads_CTR_Optimisation.csv\")\n",
    "\n",
    "n_items = 10\n",
    "\n",
    "n_trials = 10000\n",
    "\n",
    "n_ones = [0] * n_items # Number of rewards of each item\n",
    "\n",
    "n_zeros = [0] * n_items # Number of punishments of each item\n",
    "\n",
    "total_rewards = 0 # Total gained rewards\n",
    "\n",
    "items_selected = [] # a History contains the selected item at each N_trial"
   ]
  },
  {
   "cell_type": "code",
   "execution_count": null,
   "metadata": {},
   "outputs": [],
   "source": [
    "###### Algorithm Implementation ######\n",
    "\n",
    "for trial in range(n_trials):\n",
    "    max_probability = 0\n",
    "    # Randomly select first item and try it\n",
    "    selected_item = 0\n",
    "    for item in range(n_items):\n",
    "        # Calculate Beta distribution\n",
    "        random_beta = random.betavariate(n_ones[item] + 1, n_zeros[item] + 1)\n",
    "        if random_beta > max_probability :\n",
    "            # Update to higher probability & keep selected item index\n",
    "            max_probability = random_beta\n",
    "            selected_item = item\n",
    "    # Update selected item's data\n",
    "    reward = dataset.values[trial, selected_item]\n",
    "    total_rewards += reward\n",
    "    # Keep a history of which item is selected\n",
    "    items_selected.append(selected_item + 1) # +1 because selected_item is index\n",
    "    # Add a reward(1) and punishment(0) to selected item\n",
    "    if reward:\n",
    "        n_ones[selected_item] += 1\n",
    "    else:\n",
    "        n_zeros[selected_item] += 1"
   ]
  },
  {
   "cell_type": "code",
   "execution_count": null,
   "metadata": {},
   "outputs": [],
   "source": [
    "# Visualization\n",
    "plt.hist(items_selected)"
   ]
  },
  {
   "cell_type": "code",
   "execution_count": null,
   "metadata": {},
   "outputs": [],
   "source": [
    "# Most selected item (as value, not as index)\n",
    "top_item = np.bincount(np.array(items_selected)).argmax()"
   ]
  }
 ],
 "metadata": {
  "kernelspec": {
   "display_name": "Python 3",
   "language": "python",
   "name": "python3"
  },
  "language_info": {
   "codemirror_mode": {
    "name": "ipython",
    "version": 3
   },
   "file_extension": ".py",
   "mimetype": "text/x-python",
   "name": "python",
   "nbconvert_exporter": "python",
   "pygments_lexer": "ipython3",
   "version": "3.7.4"
  }
 },
 "nbformat": 4,
 "nbformat_minor": 2
}
